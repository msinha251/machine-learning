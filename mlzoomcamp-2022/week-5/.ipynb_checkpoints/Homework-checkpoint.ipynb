{
 "cells": [
  {
   "cell_type": "markdown",
   "id": "0a1bf670",
   "metadata": {},
   "source": [
    "#### installed pipenv:\n",
    "\n",
    "pip install pipenv"
   ]
  },
  {
   "cell_type": "markdown",
   "id": "f46dc708",
   "metadata": {},
   "source": [
    "#### Question 1\n",
    "Install Pipenv\n",
    "##### What's the version of pipenv you installed?"
   ]
  },
  {
   "cell_type": "code",
   "execution_count": 3,
   "id": "52b70cbe",
   "metadata": {},
   "outputs": [
    {
     "name": "stdout",
     "output_type": "stream",
     "text": [
      "\u001b[1mpipenv\u001b[0m, version 2022.10.4\n",
      "\u001b[0m"
     ]
    }
   ],
   "source": [
    "!pipenv --version"
   ]
  },
  {
   "cell_type": "markdown",
   "id": "c7b61720",
   "metadata": {},
   "source": [
    "#### Question 2\n",
    "Use Pipenv to install Scikit-Learn version 1.0.2\n",
    "##### What's the first hash for scikit-learn you get in Pipfile.lock?"
   ]
  },
  {
   "cell_type": "markdown",
   "id": "5d005d12",
   "metadata": {},
   "source": [
    "#ran the command on cli\n",
    "\n",
    "`!pipenv install scikit-learn==1.0.2`\n",
    "\n",
    "Answer: \n",
    "**sha256:1c8fecb7c9984d9ec2ea48898229f98aad681a0873e0935f2b7f724fbce4a047**"
   ]
  },
  {
   "cell_type": "code",
   "execution_count": null,
   "id": "f0a39b17",
   "metadata": {},
   "outputs": [],
   "source": [
    "# Save model:\n",
    "\n",
    "import pickle\n",
    "with open('model.bin', 'wb') as f_out:\n",
    "    pickle.dump((dcit_vectorizer, model), f_out)\n",
    "f_out.close() ## After opening any file it's nessecery to close it\n",
    "\n",
    "#load model\n",
    "with open('mode.bin', 'rb') as f_in:  ## Note that never open a binary file you do not trust!\n",
    "    dict_vectorizer, model = pickle.load(f_in)\n",
    "f_in.close()\n"
   ]
  },
  {
   "cell_type": "markdown",
   "id": "4c9ee164",
   "metadata": {},
   "source": [
    "#### We've prepared a dictionary vectorizer and a model.\n",
    "\n",
    "With wget:\n",
    "\n",
    "PREFIX=https://raw.githubusercontent.com/alexeygrigorev/mlbookcamp-code/master/course-zoomcamp/cohorts/2022/05-deployment/homework\n",
    "\n",
    "`wget $PREFIX/model1.bin`\n",
    "\n",
    "`wget $PREFIX/dv.bin`\n",
    "\n",
    "#### Question 3\n",
    "Let's use these models!\n",
    "\n",
    "##### Write a script for loading these models with pickle\n",
    "Score this client:\n",
    "`{\"reports\": 0, \"share\": 0.001694, \"expenditure\": 0.12, \"owner\": \"yes\"}`"
   ]
  },
  {
   "cell_type": "code",
   "execution_count": 1,
   "id": "b28d5337",
   "metadata": {},
   "outputs": [
    {
     "name": "stderr",
     "output_type": "stream",
     "text": [
      "/home/ubuntu/anaconda3/envs/ml-zoomcamp/lib/python3.9/site-packages/sklearn/base.py:329: UserWarning: Trying to unpickle estimator LogisticRegression from version 1.0.2 when using version 1.1.1. This might lead to breaking code or invalid results. Use at your own risk. For more info please refer to:\n",
      "https://scikit-learn.org/stable/model_persistence.html#security-maintainability-limitations\n",
      "  warnings.warn(\n",
      "/home/ubuntu/anaconda3/envs/ml-zoomcamp/lib/python3.9/site-packages/sklearn/base.py:329: UserWarning: Trying to unpickle estimator DictVectorizer from version 1.0.2 when using version 1.1.1. This might lead to breaking code or invalid results. Use at your own risk. For more info please refer to:\n",
      "https://scikit-learn.org/stable/model_persistence.html#security-maintainability-limitations\n",
      "  warnings.warn(\n"
     ]
    },
    {
     "data": {
      "text/plain": [
       "0.162"
      ]
     },
     "execution_count": 1,
     "metadata": {},
     "output_type": "execute_result"
    }
   ],
   "source": [
    "from homework.load_model import predict_single\n",
    "data = {\"reports\": 0, \"share\": 0.001694, \"expenditure\": 0.12, \"owner\": \"yes\"}\n",
    "predict_single(data)"
   ]
  },
  {
   "cell_type": "markdown",
   "id": "c606601a",
   "metadata": {},
   "source": [
    "#### Question 4\n",
    "Now let's serve this model as a web service\n",
    "\n",
    "* Install Flask and gunicorn (or waitress, if you're on Windows)\n",
    "* Write Flask code for serving the model\n",
    "* Now score this client using requests:\n",
    "\n",
    "```\n",
    "url = \"YOUR_URL\"\n",
    "client = {\"reports\": 0, \"share\": 0.245, \"expenditure\": 3.438, \"owner\": \"yes\"}\n",
    "requests.post(url, json=client).json()\n",
    "```\n",
    "##### What's the probability that this client will get a credit card?"
   ]
  },
  {
   "cell_type": "markdown",
   "id": "56d55933",
   "metadata": {},
   "source": [
    "##### ran below command on cli:\n",
    "`!pipenv install flask gunicorn`\n",
    "\n",
    "`!gunicorn --bind 0.0.0.0:9696 flask_app:app`\n",
    "\n"
   ]
  },
  {
   "cell_type": "code",
   "execution_count": 5,
   "id": "321ba9ba",
   "metadata": {},
   "outputs": [
    {
     "name": "stdout",
     "output_type": "stream",
     "text": [
      "0.928\n"
     ]
    }
   ],
   "source": [
    "import requests\n",
    "url = \"http://localhost:9696/predict\"\n",
    "client = {\"reports\": 0, \"share\": 0.245, \"expenditure\": 3.438, \"owner\": \"yes\"}\n",
    "response = requests.post(url, json=client).json()\n",
    "print(response['probability'])"
   ]
  },
  {
   "cell_type": "markdown",
   "id": "4c6260fd",
   "metadata": {},
   "source": [
    "#### Question 5\n",
    "Download the base image svizor/zoomcamp-model:3.9.12-slim. You can easily make it by using docker pull command.\n",
    "\n",
    "##### So what's the size of this base image?\n"
   ]
  },
  {
   "cell_type": "markdown",
   "id": "879fbe2d",
   "metadata": {},
   "source": [
    "`!docker images`\n",
    "\n",
    "Answer is **125 Mb**"
   ]
  },
  {
   "cell_type": "markdown",
   "id": "fd03c3c8",
   "metadata": {},
   "source": [
    "#### Question 6\n",
    "Let's run your docker container!\n",
    "\n",
    "After running it, score this client once again:\n",
    "```\n",
    "url = \"YOUR_URL\"\n",
    "client = {\"reports\": 0, \"share\": 0.245, \"expenditure\": 3.438, \"owner\": \"yes\"}\n",
    "requests.post(url, json=client).json()\n",
    "````\n",
    "\n",
    "##### What's the probability that this client will get a credit card now?"
   ]
  },
  {
   "cell_type": "code",
   "execution_count": 7,
   "id": "a62df83d",
   "metadata": {},
   "outputs": [
    {
     "data": {
      "text/plain": [
       "{'probability': 0.769}"
      ]
     },
     "execution_count": 7,
     "metadata": {},
     "output_type": "execute_result"
    }
   ],
   "source": [
    "import requests\n",
    "url = \"http://localhost:9696/predict2\"\n",
    "client = {\"reports\": 0, \"share\": 0.245, \"expenditure\": 3.438, \"owner\": \"yes\"}\n",
    "requests.post(url, json=client).json()"
   ]
  },
  {
   "cell_type": "code",
   "execution_count": null,
   "id": "85c70d4b",
   "metadata": {},
   "outputs": [],
   "source": []
  },
  {
   "cell_type": "code",
   "execution_count": null,
   "id": "3095d52b",
   "metadata": {},
   "outputs": [],
   "source": []
  },
  {
   "cell_type": "code",
   "execution_count": null,
   "id": "7619b337",
   "metadata": {},
   "outputs": [],
   "source": []
  }
 ],
 "metadata": {
  "kernelspec": {
   "display_name": "Python 3 (ipykernel)",
   "language": "python",
   "name": "python3"
  },
  "language_info": {
   "codemirror_mode": {
    "name": "ipython",
    "version": 3
   },
   "file_extension": ".py",
   "mimetype": "text/x-python",
   "name": "python",
   "nbconvert_exporter": "python",
   "pygments_lexer": "ipython3",
   "version": "3.9.13"
  }
 },
 "nbformat": 4,
 "nbformat_minor": 5
}
