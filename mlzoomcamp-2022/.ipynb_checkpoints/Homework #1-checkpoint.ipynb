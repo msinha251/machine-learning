{
 "cells": [
  {
   "cell_type": "code",
   "execution_count": 1,
   "id": "7aa473df",
   "metadata": {},
   "outputs": [],
   "source": [
    "import numpy as np\n",
    "import pandas as pd"
   ]
  },
  {
   "cell_type": "markdown",
   "id": "6d60889f",
   "metadata": {},
   "source": [
    "**Question 1** : What's the version of NumPy that you installed?"
   ]
  },
  {
   "cell_type": "code",
   "execution_count": 2,
   "id": "70dcfcb0",
   "metadata": {},
   "outputs": [
    {
     "data": {
      "text/plain": [
       "'1.21.5'"
      ]
     },
     "execution_count": 2,
     "metadata": {},
     "output_type": "execute_result"
    }
   ],
   "source": [
    "np.__version__"
   ]
  },
  {
   "cell_type": "markdown",
   "id": "bf09982b",
   "metadata": {},
   "source": [
    "##### Download data:"
   ]
  },
  {
   "cell_type": "code",
   "execution_count": 5,
   "id": "24b9a131",
   "metadata": {},
   "outputs": [
    {
     "name": "stdout",
     "output_type": "stream",
     "text": [
      "--2022-09-08 05:46:58--  https://raw.githubusercontent.com/alexeygrigorev/mlbookcamp-code/master/chapter-02-car-price/data.csv\n",
      "Resolving raw.githubusercontent.com (raw.githubusercontent.com)... 185.199.110.133, 185.199.111.133, 185.199.108.133, ...\n",
      "Connecting to raw.githubusercontent.com (raw.githubusercontent.com)|185.199.110.133|:443... connected.\n",
      "HTTP request sent, awaiting response... 200 OK\n",
      "Length: 1475504 (1.4M) [text/plain]\n",
      "Saving to: ‘./data/data.csv’\n",
      "\n",
      "data.csv            100%[===================>]   1.41M  --.-KB/s    in 0.02s   \n",
      "\n",
      "2022-09-08 05:46:58 (82.2 MB/s) - ‘./data/data.csv’ saved [1475504/1475504]\n",
      "\n"
     ]
    }
   ],
   "source": [
    "#create data folder if not exist:\n",
    "!mkdir -p ./data\n",
    "\n",
    "#download data in data folder:\n",
    "!wget 'https://raw.githubusercontent.com/alexeygrigorev/mlbookcamp-code/master/chapter-02-car-price/data.csv' -P ./data/\n"
   ]
  },
  {
   "cell_type": "markdown",
   "id": "1beac36c",
   "metadata": {},
   "source": [
    "**Question 2** : Number of records in the dataset"
   ]
  },
  {
   "cell_type": "code",
   "execution_count": 11,
   "id": "ff1f1f62",
   "metadata": {},
   "outputs": [
    {
     "data": {
      "text/plain": [
       "11914"
      ]
     },
     "execution_count": 11,
     "metadata": {},
     "output_type": "execute_result"
    }
   ],
   "source": [
    "df = pd.read_csv('./data/data.csv')\n",
    "df.shape[0]"
   ]
  },
  {
   "cell_type": "markdown",
   "id": "9cbfd6b3",
   "metadata": {},
   "source": [
    "**Question 3**: The most popular car manufacturers"
   ]
  },
  {
   "cell_type": "code",
   "execution_count": 16,
   "id": "1d576ac1",
   "metadata": {},
   "outputs": [
    {
     "data": {
      "text/plain": [
       "Chevrolet     1123\n",
       "Ford           881\n",
       "Volkswagen     809\n",
       "Name: Make, dtype: int64"
      ]
     },
     "execution_count": 16,
     "metadata": {},
     "output_type": "execute_result"
    }
   ],
   "source": [
    "df.Make.value_counts()[0:3]"
   ]
  },
  {
   "cell_type": "markdown",
   "id": "28ce7157",
   "metadata": {},
   "source": [
    "**Question 4**: Number of unique Audi car models"
   ]
  },
  {
   "cell_type": "code",
   "execution_count": 22,
   "id": "254096eb",
   "metadata": {},
   "outputs": [
    {
     "data": {
      "text/plain": [
       "34"
      ]
     },
     "execution_count": 22,
     "metadata": {},
     "output_type": "execute_result"
    }
   ],
   "source": [
    "df[df.Make == 'Audi'].Model.nunique()"
   ]
  },
  {
   "cell_type": "markdown",
   "id": "2f69d596",
   "metadata": {},
   "source": [
    "**Question 5**: Number of columns with missing values\n"
   ]
  },
  {
   "cell_type": "code",
   "execution_count": 31,
   "id": "9a14e555",
   "metadata": {},
   "outputs": [
    {
     "data": {
      "text/plain": [
       "Engine Fuel Type       3\n",
       "Engine HP             69\n",
       "Engine Cylinders      30\n",
       "Number of Doors        6\n",
       "Market Category     3742\n",
       "dtype: int64"
      ]
     },
     "execution_count": 31,
     "metadata": {},
     "output_type": "execute_result"
    }
   ],
   "source": [
    "df.isnull().sum()[df.isnull().sum() != 0]"
   ]
  },
  {
   "cell_type": "markdown",
   "id": "64227ded",
   "metadata": {},
   "source": [
    "**Question 6**: Does the median value change after filling missing values?\n"
   ]
  },
  {
   "cell_type": "code",
   "execution_count": 63,
   "id": "42db162b",
   "metadata": {},
   "outputs": [
    {
     "data": {
      "text/plain": [
       "6.0"
      ]
     },
     "execution_count": 63,
     "metadata": {},
     "output_type": "execute_result"
    }
   ],
   "source": [
    "'''\n",
    "Find the median value of \"Engine Cylinders\" column in the dataset.\n",
    "Next, calculate the most frequent value of the same \"Engine Cylinders\".\n",
    "Use the fillna method to fill the missing values in \"Engine Cylinders\" with the most frequent value from the previous step.\n",
    "Now, calculate the median value of \"Engine Cylinders\" once again.\n",
    "Has it changed?\n",
    "'''\n",
    "\n",
    "print(f'Before: {df['Engine Cylinders'].median()}')\n",
    "\n",
    "most_frequent_value = df['Engine Cylinders'].value_counts().index[0]\n",
    "df['Engine Cylinders'].fillna(most_frequent_value, inplace=True)\n",
    "print(f'Before: {df['Engine Cylinders'].median()}')\n"
   ]
  },
  {
   "cell_type": "markdown",
   "id": "931d0c78",
   "metadata": {},
   "source": [
    "**Questions 7**: Value of the first element of w\n"
   ]
  },
  {
   "cell_type": "code",
   "execution_count": 112,
   "id": "7c843f29",
   "metadata": {},
   "outputs": [
    {
     "data": {
      "text/plain": [
       "-1.5222166740528988e+20"
      ]
     },
     "execution_count": 112,
     "metadata": {},
     "output_type": "execute_result"
    }
   ],
   "source": [
    "'''\n",
    "Select all the \"Lotus\" cars from the dataset.\n",
    "Select only columns \"Engine HP\", \"Engine Cylinders\".\n",
    "Now drop all duplicated rows using drop_duplicates method (you should get a dataframe with 9 rows).\n",
    "Get the underlying NumPy array. Let's call it X.\n",
    "Compute matrix-matrix multiplication between the transpose of X and X. To get the transpose, use X.T. Let's call the result XTX.\n",
    "Invert XTX.\n",
    "Create an array y with values [1100, 800, 750, 850, 1300, 1000, 1000, 1300, 800].\n",
    "Multiply the inverse of XTX with the transpose of X, and then multiply the result by y. Call the result w.\n",
    "What's the value of the first element of w?\n",
    "'''\n",
    "\n",
    "X = df[df.Make=='Lotus'][['Engine HP', 'Engine Cylinders']].drop_duplicates().values\n",
    "XTX = X.dot(X.T)\n",
    "XTX_inv = np.linalg.inv(XTX)\n",
    "y = np.array([1100, 800, 750, 850, 1300, 1000, 1000, 1300, 800])\n",
    "w= (X.T.dot(XTX_inv)).dot(y)\n",
    "w[0].round()\n"
   ]
  },
  {
   "cell_type": "code",
   "execution_count": 102,
   "id": "58c2638a",
   "metadata": {},
   "outputs": [],
   "source": []
  },
  {
   "cell_type": "code",
   "execution_count": 95,
   "id": "e7737285",
   "metadata": {},
   "outputs": [],
   "source": []
  },
  {
   "cell_type": "code",
   "execution_count": null,
   "id": "a5b87acf",
   "metadata": {},
   "outputs": [],
   "source": []
  },
  {
   "cell_type": "code",
   "execution_count": null,
   "id": "bff68738",
   "metadata": {},
   "outputs": [],
   "source": []
  },
  {
   "cell_type": "code",
   "execution_count": null,
   "id": "e4606666",
   "metadata": {},
   "outputs": [],
   "source": []
  }
 ],
 "metadata": {
  "kernelspec": {
   "display_name": "Python 3 (ipykernel)",
   "language": "python",
   "name": "python3"
  },
  "language_info": {
   "codemirror_mode": {
    "name": "ipython",
    "version": 3
   },
   "file_extension": ".py",
   "mimetype": "text/x-python",
   "name": "python",
   "nbconvert_exporter": "python",
   "pygments_lexer": "ipython3",
   "version": "3.9.13"
  }
 },
 "nbformat": 4,
 "nbformat_minor": 5
}
