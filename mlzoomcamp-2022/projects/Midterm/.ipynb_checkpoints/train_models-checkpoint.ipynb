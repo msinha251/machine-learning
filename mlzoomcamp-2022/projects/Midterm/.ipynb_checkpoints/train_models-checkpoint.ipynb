{
 "cells": [
  {
   "cell_type": "code",
   "execution_count": 17,
   "id": "61dcabe0",
   "metadata": {},
   "outputs": [],
   "source": [
    "import pandas as pd\n",
    "from ml.data import basic_preprocess"
   ]
  },
  {
   "cell_type": "code",
   "execution_count": 18,
   "id": "e3367415",
   "metadata": {},
   "outputs": [],
   "source": [
    "train = pd.read_csv('./data/train.csv')\n",
    "test = pd.read_csv('./data/test.csv')"
   ]
  },
  {
   "cell_type": "code",
   "execution_count": 19,
   "id": "4f5b025b",
   "metadata": {},
   "outputs": [
    {
     "name": "stderr",
     "output_type": "stream",
     "text": [
      "2022-11-01 07:03:27 INFO Replacing \" \" and \"-\" with \"_\" in and  column names and converting to lower case\n",
      "2022-11-01 07:03:27 INFO Converting CryoSleep to binary\n",
      "2022-11-01 07:03:27 INFO Converting VIP to binary\n",
      "2022-11-01 07:03:27 INFO Splitting \"cabin\" from `deck/num/side` to `deck` `number` and `side`\n",
      "2022-11-01 07:03:28 INFO Found 6 categorical columns\n",
      "2022-11-01 07:03:28 INFO Categorical columns: ['passengerid', 'homeplanet', 'destination', 'name', 'cabin_deck', 'cabin_side']\n",
      "2022-11-01 07:03:28 INFO Found 10 numerical columns\n",
      "2022-11-01 07:03:28 INFO Numerical columns: ['cryosleep', 'age', 'vip', 'roomservice', 'foodcourt', 'shoppingmall', 'spa', 'vrdeck', 'transported', 'cabin_number']\n",
      "2022-11-01 07:03:28 INFO Converting str to lower case\n",
      "2022-11-01 07:03:28 INFO Converting target to binary\n",
      "2022-11-01 07:03:28 INFO Removing target from cat_cols or num_cols\n",
      "2022-11-01 07:03:28 INFO Filling categorical columns with mode\n",
      "2022-11-01 07:03:29 INFO Filling numerical columns with mean\n",
      "2022-11-01 07:03:29 INFO Replacing \" \" and \"-\" with \"_\" in and  column names and converting to lower case\n",
      "2022-11-01 07:03:29 INFO Converting CryoSleep to binary\n",
      "2022-11-01 07:03:29 INFO Converting VIP to binary\n",
      "2022-11-01 07:03:29 INFO Splitting \"cabin\" from `deck/num/side` to `deck` `number` and `side`\n",
      "2022-11-01 07:03:29 INFO Found 6 categorical columns\n",
      "2022-11-01 07:03:29 INFO Categorical columns: ['passengerid', 'homeplanet', 'destination', 'name', 'cabin_deck', 'cabin_side']\n",
      "2022-11-01 07:03:29 INFO Found 9 numerical columns\n",
      "2022-11-01 07:03:29 INFO Numerical columns: ['cryosleep', 'age', 'vip', 'roomservice', 'foodcourt', 'shoppingmall', 'spa', 'vrdeck', 'cabin_number']\n",
      "2022-11-01 07:03:29 INFO Converting str to lower case\n",
      "2022-11-01 07:03:29 INFO Removing target from cat_cols or num_cols\n",
      "2022-11-01 07:03:29 INFO Filling categorical columns with mode\n",
      "2022-11-01 07:03:29 INFO Filling numerical columns with mean\n"
     ]
    }
   ],
   "source": [
    "df, cat_cols, num_cols, target =  basic_preprocess(train, train=True, target='Transported')\n",
    "df_test, _, _ , _ = basic_preprocess(test, train=False, target='Transported')"
   ]
  },
  {
   "cell_type": "code",
   "execution_count": 20,
   "id": "4e8acb48",
   "metadata": {},
   "outputs": [
    {
     "data": {
      "text/html": [
       "<div>\n",
       "<style scoped>\n",
       "    .dataframe tbody tr th:only-of-type {\n",
       "        vertical-align: middle;\n",
       "    }\n",
       "\n",
       "    .dataframe tbody tr th {\n",
       "        vertical-align: top;\n",
       "    }\n",
       "\n",
       "    .dataframe thead th {\n",
       "        text-align: right;\n",
       "    }\n",
       "</style>\n",
       "<table border=\"1\" class=\"dataframe\">\n",
       "  <thead>\n",
       "    <tr style=\"text-align: right;\">\n",
       "      <th></th>\n",
       "      <th>passengerid</th>\n",
       "      <th>homeplanet</th>\n",
       "      <th>cryosleep</th>\n",
       "      <th>destination</th>\n",
       "      <th>age</th>\n",
       "      <th>vip</th>\n",
       "      <th>roomservice</th>\n",
       "      <th>foodcourt</th>\n",
       "      <th>shoppingmall</th>\n",
       "      <th>spa</th>\n",
       "      <th>vrdeck</th>\n",
       "      <th>name</th>\n",
       "      <th>transported</th>\n",
       "      <th>cabin_deck</th>\n",
       "      <th>cabin_number</th>\n",
       "      <th>cabin_side</th>\n",
       "    </tr>\n",
       "  </thead>\n",
       "  <tbody>\n",
       "    <tr>\n",
       "      <th>0</th>\n",
       "      <td>0001_01</td>\n",
       "      <td>europa</td>\n",
       "      <td>0.0</td>\n",
       "      <td>trappist-1e</td>\n",
       "      <td>39.0</td>\n",
       "      <td>0.0</td>\n",
       "      <td>0.0</td>\n",
       "      <td>0.0</td>\n",
       "      <td>0.0</td>\n",
       "      <td>0.0</td>\n",
       "      <td>0.0</td>\n",
       "      <td>maham ofracculy</td>\n",
       "      <td>0</td>\n",
       "      <td>b</td>\n",
       "      <td>0.0</td>\n",
       "      <td>p</td>\n",
       "    </tr>\n",
       "    <tr>\n",
       "      <th>1</th>\n",
       "      <td>0002_01</td>\n",
       "      <td>earth</td>\n",
       "      <td>0.0</td>\n",
       "      <td>trappist-1e</td>\n",
       "      <td>24.0</td>\n",
       "      <td>0.0</td>\n",
       "      <td>109.0</td>\n",
       "      <td>9.0</td>\n",
       "      <td>25.0</td>\n",
       "      <td>549.0</td>\n",
       "      <td>44.0</td>\n",
       "      <td>juanna vines</td>\n",
       "      <td>1</td>\n",
       "      <td>f</td>\n",
       "      <td>0.0</td>\n",
       "      <td>s</td>\n",
       "    </tr>\n",
       "    <tr>\n",
       "      <th>2</th>\n",
       "      <td>0003_01</td>\n",
       "      <td>europa</td>\n",
       "      <td>0.0</td>\n",
       "      <td>trappist-1e</td>\n",
       "      <td>58.0</td>\n",
       "      <td>1.0</td>\n",
       "      <td>43.0</td>\n",
       "      <td>3576.0</td>\n",
       "      <td>0.0</td>\n",
       "      <td>6715.0</td>\n",
       "      <td>49.0</td>\n",
       "      <td>altark susent</td>\n",
       "      <td>0</td>\n",
       "      <td>a</td>\n",
       "      <td>0.0</td>\n",
       "      <td>s</td>\n",
       "    </tr>\n",
       "    <tr>\n",
       "      <th>3</th>\n",
       "      <td>0003_02</td>\n",
       "      <td>europa</td>\n",
       "      <td>0.0</td>\n",
       "      <td>trappist-1e</td>\n",
       "      <td>33.0</td>\n",
       "      <td>0.0</td>\n",
       "      <td>0.0</td>\n",
       "      <td>1283.0</td>\n",
       "      <td>371.0</td>\n",
       "      <td>3329.0</td>\n",
       "      <td>193.0</td>\n",
       "      <td>solam susent</td>\n",
       "      <td>0</td>\n",
       "      <td>a</td>\n",
       "      <td>0.0</td>\n",
       "      <td>s</td>\n",
       "    </tr>\n",
       "    <tr>\n",
       "      <th>4</th>\n",
       "      <td>0004_01</td>\n",
       "      <td>earth</td>\n",
       "      <td>0.0</td>\n",
       "      <td>trappist-1e</td>\n",
       "      <td>16.0</td>\n",
       "      <td>0.0</td>\n",
       "      <td>303.0</td>\n",
       "      <td>70.0</td>\n",
       "      <td>151.0</td>\n",
       "      <td>565.0</td>\n",
       "      <td>2.0</td>\n",
       "      <td>willy santantines</td>\n",
       "      <td>1</td>\n",
       "      <td>f</td>\n",
       "      <td>1.0</td>\n",
       "      <td>s</td>\n",
       "    </tr>\n",
       "  </tbody>\n",
       "</table>\n",
       "</div>"
      ],
      "text/plain": [
       "  passengerid homeplanet  cryosleep  destination   age  vip  roomservice  \\\n",
       "0     0001_01     europa        0.0  trappist-1e  39.0  0.0          0.0   \n",
       "1     0002_01      earth        0.0  trappist-1e  24.0  0.0        109.0   \n",
       "2     0003_01     europa        0.0  trappist-1e  58.0  1.0         43.0   \n",
       "3     0003_02     europa        0.0  trappist-1e  33.0  0.0          0.0   \n",
       "4     0004_01      earth        0.0  trappist-1e  16.0  0.0        303.0   \n",
       "\n",
       "   foodcourt  shoppingmall     spa  vrdeck               name  transported  \\\n",
       "0        0.0           0.0     0.0     0.0    maham ofracculy            0   \n",
       "1        9.0          25.0   549.0    44.0       juanna vines            1   \n",
       "2     3576.0           0.0  6715.0    49.0      altark susent            0   \n",
       "3     1283.0         371.0  3329.0   193.0       solam susent            0   \n",
       "4       70.0         151.0   565.0     2.0  willy santantines            1   \n",
       "\n",
       "  cabin_deck  cabin_number cabin_side  \n",
       "0          b           0.0          p  \n",
       "1          f           0.0          s  \n",
       "2          a           0.0          s  \n",
       "3          a           0.0          s  \n",
       "4          f           1.0          s  "
      ]
     },
     "execution_count": 20,
     "metadata": {},
     "output_type": "execute_result"
    }
   ],
   "source": [
    "df.head()"
   ]
  },
  {
   "cell_type": "code",
   "execution_count": 21,
   "id": "21e62531",
   "metadata": {},
   "outputs": [
    {
     "data": {
      "text/plain": [
       "['passengerid',\n",
       " 'homeplanet',\n",
       " 'destination',\n",
       " 'name',\n",
       " 'cabin_deck',\n",
       " 'cabin_side']"
      ]
     },
     "execution_count": 21,
     "metadata": {},
     "output_type": "execute_result"
    }
   ],
   "source": [
    "cat_cols"
   ]
  },
  {
   "cell_type": "markdown",
   "id": "418a7d9a",
   "metadata": {},
   "source": [
    "## Convert to dict_vectorizer"
   ]
  },
  {
   "cell_type": "code",
   "execution_count": 22,
   "id": "b82d358a",
   "metadata": {},
   "outputs": [],
   "source": [
    "from sklearn.model_selection import train_test_split\n",
    "from sklearn.feature_extraction import DictVectorizer\n",
    "\n",
    "# Final features\n",
    "cat_cols_to_use = ['homeplanet', 'cabin_deck', 'cabin_side', 'destination']\n",
    "final_cols = cat_cols_to_use + list(num_cols)\n",
    "\n",
    "# Split data into train and validation\n",
    "df_train, df_val = train_test_split(df, test_size=0.2, random_state=1)\n",
    "\n",
    "# Split data into X and y\n",
    "X_train_df = df_train.drop(target, axis=1)\n",
    "y_train = df_train[target]\n",
    "\n",
    "X_val_df = df_val.drop(target, axis=1)\n",
    "y_val = df_val[target]\n",
    "\n",
    "# convert to dicts\n",
    "train_dicts = X_train_df[final_cols].to_dict(orient='records')\n",
    "dv = DictVectorizer(sparse=False)\n",
    "dv.fit(train_dicts)\n",
    "\n",
    "# transform dicts\n",
    "X_train = dv.transform(train_dicts)\n",
    "val_dicts = X_val_df[final_cols].to_dict(orient='records')\n",
    "X_val = dv.transform(val_dicts)"
   ]
  },
  {
   "cell_type": "markdown",
   "id": "f7e6f695",
   "metadata": {},
   "source": [
    "## Train Randon Forest"
   ]
  },
  {
   "cell_type": "code",
   "execution_count": 23,
   "id": "f45e0fac",
   "metadata": {},
   "outputs": [
    {
     "name": "stdout",
     "output_type": "stream",
     "text": [
      "Accuracy: 0.802\n",
      "Precision: 0.834\n",
      "Recall: 0.769\n",
      "F1: 0.800\n",
      "AUC: 0.882\n"
     ]
    }
   ],
   "source": [
    "from sklearn.ensemble import RandomForestClassifier\n",
    "\n",
    "# Train model\n",
    "model = RandomForestClassifier(n_estimators=100, random_state=1, n_jobs=-1, oob_score=True)\n",
    "model.fit(X_train, y_train)\n",
    "\n",
    "# Predict on validation data\n",
    "y_pred_prob = model.predict_proba(X_val)[:, 1]\n",
    "y_pred = y_pred_prob > 0.5\n",
    "\n",
    "from ml.model import print_metrics\n",
    "print_metrics(y_val, y_pred, y_pred_prob)\n"
   ]
  },
  {
   "cell_type": "markdown",
   "id": "bcf83447",
   "metadata": {},
   "source": [
    "## Train XGBoost"
   ]
  },
  {
   "cell_type": "code",
   "execution_count": 26,
   "id": "21806bd6",
   "metadata": {},
   "outputs": [
    {
     "name": "stdout",
     "output_type": "stream",
     "text": [
      "[0]\tval-auc:0.83651\n",
      "[55]\tval-auc:0.90397\n",
      "****** Accuracy: 0.8223116733755031\n",
      "******************************\n"
     ]
    }
   ],
   "source": [
    "import xgboost as xgb\n",
    "\n",
    "# convert data to DMatrix\n",
    "dtrain = xgb.DMatrix(X_train, label=y_train)\n",
    "dval = xgb.DMatrix(X_val, label=y_val)\n",
    "\n",
    "# Train model\n",
    "params = {\n",
    "    'max_depth': 3,\n",
    "    'eta': 0.1,\n",
    "    'objective': 'binary:logistic',\n",
    "    'eval_metric': 'auc',\n",
    "    'seed': 1,\n",
    "}\n",
    "\n",
    "model = xgb.train(params, dtrain, num_boost_round=100, evals=[(dval, 'val')], early_stopping_rounds=10, verbose_eval=100)\n",
    "\n",
    "# Predict on validation data\n",
    "y_pred_prob = model.predict(dval)\n",
    "y_pred = y_pred_prob > 0.5\n",
    "\n",
    "from sklearn.metrics import accuracy_score, precision_score, recall_score, roc_auc_score\n",
    "accuracy = accuracy_score(y_val, y_pred)\n",
    "\n",
    "print(f'****** Accuracy: {accuracy}')\n",
    "print('******************************')"
   ]
  },
  {
   "cell_type": "code",
   "execution_count": null,
   "id": "a23388df",
   "metadata": {},
   "outputs": [],
   "source": [
    "# predict on test data\n",
    "X_test_df = df_test[final_cols]\n",
    "test_dicts = X_test_df.to_dict(orient='records')\n",
    "X_test = dv.transform(test_dicts)\n",
    "dtest = xgb.DMatrix(X_test)\n",
    "y_pred_prob = model.predict(dtest)\n",
    "y_pred = y_pred_prob > 0.5\n",
    "\n",
    "# save predictions\n",
    "df_test['Transported'] = y_pred\n",
    "#rename columns\n",
    "df_test.rename(columns={'passengerid': 'PassengerId'}, inplace=True)\n",
    "df_test[['PassengerId', 'Transported']].to_csv('xgb_predictions.csv', index=False)\n",
    "\n"
   ]
  },
  {
   "cell_type": "markdown",
   "id": "46e5ef04",
   "metadata": {},
   "source": [
    "## Tuning XGB hyperparameters:"
   ]
  },
  {
   "cell_type": "code",
   "execution_count": null,
   "id": "2575908b",
   "metadata": {},
   "outputs": [],
   "source": [
    "# XGB Hyperparameters tuning:\n",
    "eta = [0.1, 0.2, 0.3, 0.4, 0.5]\n",
    "max_depth = [3, 4, 5, 6, 7, 8, 9, 10]\n",
    "for e in eta:\n",
    "    for m in max_depth:\n",
    "        # Train model\n",
    "        params = {\n",
    "            'max_depth': m,\n",
    "            'eta': e,\n",
    "            'objective': 'binary:logistic',\n",
    "            'eval_metric': 'auc',\n",
    "            'seed': 1,\n",
    "        }\n",
    "\n",
    "        model = xgb.train(params, dtrain, num_boost_round=100, evals=[(dval, 'val')], early_stopping_rounds=10, verbose_eval=100)\n",
    "\n",
    "        # Predict on validation data\n",
    "        y_pred_prob = model.predict(dval)\n",
    "        y_pred = y_pred_prob > 0.5\n",
    "\n",
    "        from sklearn.metrics import accuracy_score, precision_score, recall_score, roc_auc_score\n",
    "        accuracy = accuracy_score(y_val, y_pred)\n",
    "\n",
    "        print(f'****** eta: {e} - max_depth: {m} ******  --- Accuracy: {accuracy}')\n",
    "        print('****************************************************************************************************') "
   ]
  },
  {
   "cell_type": "code",
   "execution_count": null,
   "id": "ddcb83df",
   "metadata": {},
   "outputs": [],
   "source": []
  },
  {
   "cell_type": "code",
   "execution_count": null,
   "id": "c5be347e",
   "metadata": {},
   "outputs": [],
   "source": []
  },
  {
   "cell_type": "code",
   "execution_count": null,
   "id": "29e291fc",
   "metadata": {},
   "outputs": [],
   "source": []
  }
 ],
 "metadata": {
  "kernelspec": {
   "display_name": "Midterm-oZiFs4e8",
   "language": "python",
   "name": "midterm-ozifs4e8"
  },
  "language_info": {
   "codemirror_mode": {
    "name": "ipython",
    "version": 3
   },
   "file_extension": ".py",
   "mimetype": "text/x-python",
   "name": "python",
   "nbconvert_exporter": "python",
   "pygments_lexer": "ipython3",
   "version": "3.10.8"
  },
  "vscode": {
   "interpreter": {
    "hash": "bc3fcef478b5487ecc3209a51fc7abd69956aaa94db0e4349505d36f5a67c248"
   }
  }
 },
 "nbformat": 4,
 "nbformat_minor": 5
}
