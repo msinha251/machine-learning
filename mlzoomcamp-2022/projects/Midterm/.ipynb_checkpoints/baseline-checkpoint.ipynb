{
 "cells": [
  {
   "cell_type": "code",
   "execution_count": 1,
   "id": "e6fe85db",
   "metadata": {},
   "outputs": [],
   "source": [
    "import pandas as pd\n",
    "import numpy as np\n",
    "import matplotlib.pyplot as plt\n",
    "import seaborn as sns\n",
    "import os\n",
    "import logging\n",
    "import warnings\n",
    "from sklearn.model_selection import train_test_split\n",
    "from sklearn.linear_model import LogisticRegression\n",
    "from sklearn.feature_extraction import DictVectorizer\n",
    "from datetime import datetime\n",
    "#warnings.filterwarnings('ignore')\n",
    "\n",
    "logging.basicConfig(level=logging.INFO, format=\"%(asctime)s %(levelname)s %(message)s\", datefmt=\"%Y-%m-%d %H:%M:%S\")"
   ]
  },
  {
   "cell_type": "code",
   "execution_count": 2,
   "id": "cd852708",
   "metadata": {},
   "outputs": [
    {
     "name": "stderr",
     "output_type": "stream",
     "text": [
      "2022-10-27 05:36:18 INFO Replacing \" \" and \"-\" with \"_\" in and  column names and converting to lower case\n",
      "2022-10-27 05:36:18 INFO Converting CryoSleep to binary\n",
      "2022-10-27 05:36:18 INFO Converting VIP to binary\n",
      "2022-10-27 05:36:18 INFO Splitting \"cabin\" from `deck/num/side` to only `deck`\n",
      "2022-10-27 05:36:18 INFO Found 5 categorical columns\n",
      "2022-10-27 05:36:18 INFO Categorical columns: Index(['passengerid', 'homeplanet', 'cabin', 'destination', 'name'], dtype='object')\n",
      "2022-10-27 05:36:18 INFO Found 9 numerical columns\n",
      "2022-10-27 05:36:18 INFO Numerical columns: Index(['cryosleep', 'age', 'vip', 'roomservice', 'foodcourt', 'shoppingmall',\n",
      "       'spa', 'vrdeck', 'transported'],\n",
      "      dtype='object')\n",
      "2022-10-27 05:36:18 INFO Converting str to lower case\n",
      "2022-10-27 05:36:18 INFO Converting target to binary\n",
      "2022-10-27 05:36:18 INFO Removing target from cat_cols or num_cols\n",
      "2022-10-27 05:36:18 INFO Filling categorical columns with mode\n",
      "2022-10-27 05:36:18 INFO Filling numerical columns with mean\n"
     ]
    }
   ],
   "source": [
    "# Load data:\n",
    "train = pd.read_csv('/home/ubuntu/mlzoomcamp/machine-learning/mlzoomcamp-2022/projects/Midterm/data/train.csv')\n",
    "test = pd.read_csv('/home/ubuntu/mlzoomcamp/machine-learning/mlzoomcamp-2022/projects/Midterm/data/test.csv')\n",
    "\n",
    "def basic_preprocess(df, train=True):\n",
    "    df = df.copy()\n",
    "    target = 'transported'\n",
    "\n",
    "    # replacing ' ' and '-' with '_' in column names and converting to lower case\n",
    "    logging.info('Replacing \" \" and \"-\" with \"_\" in and  column names and converting to lower case')\n",
    "    df.columns = df.columns.str.lower().str.replace(' ', '_').str.replace('-', '_')\n",
    "\n",
    "    # converting CryoSleep to binary\n",
    "    logging.info('Converting CryoSleep to binary')\n",
    "    df['cryosleep'] = df['cryosleep'].map({True: 1, False: 0})\n",
    "    \n",
    "    # converting VIP to binary\n",
    "    logging.info('Converting VIP to binary')\n",
    "    df['vip'] = df['vip'].map({True: 1, False: 0})\n",
    "\n",
    "    # splitting 'Cabin' from `deck/num/side` to only `deck`\n",
    "    logging.info('Splitting \"cabin\" from `deck/num/side` to only `deck`')\n",
    "    df['cabin'] = df['cabin'].str.split('/').str[0]\n",
    "\n",
    "\n",
    "    # categorical columns\n",
    "    cat_cols = df.select_dtypes(include=['object']).columns\n",
    "    logging.info(f\"Found {len(cat_cols)} categorical columns\")\n",
    "    logging.info(f\"Categorical columns: {cat_cols}\")\n",
    "\n",
    "    # numerical columns\n",
    "    num_cols = df.select_dtypes(exclude=['object']).columns\n",
    "    logging.info(f\"Found {len(num_cols)} numerical columns\")\n",
    "    logging.info(f\"Numerical columns: {num_cols}\")\n",
    "\n",
    "    # filter object columns and convert to lower case\n",
    "    logging.info('Converting str to lower case')\n",
    "    df[cat_cols] = df[cat_cols].apply(lambda x: x.str.lower())\n",
    "\n",
    "    # only for train data\n",
    "    if train:\n",
    "        # converting target to binary\n",
    "        logging.info('Converting target to binary')\n",
    "        df[target] = df[target].map({True: 1, False: 0})\n",
    "        \n",
    "    # remove target from cat_cols or num_cols\n",
    "    logging.info('Removing target from cat_cols or num_cols')\n",
    "    if target in cat_cols:\n",
    "        cat_cols = cat_cols.drop(target)\n",
    "    if target in num_cols:\n",
    "        num_cols = num_cols.drop(target)\n",
    "\n",
    "    # Fill categorical columns with mode\n",
    "    logging.info('Filling categorical columns with mode')\n",
    "    for col in cat_cols:\n",
    "        df[col] = df[col].fillna(df[col].mode()[0])\n",
    "\n",
    "    # Fill numerical columns with mean\n",
    "    logging.info('Filling numerical columns with mean')\n",
    "    for col in num_cols:\n",
    "        df[col] = df[col].fillna(df[col].mean())\n",
    "\n",
    "    return df, cat_cols, num_cols, target\n",
    "\n",
    "df, cat_cols, num_cols, target = basic_preprocess(train)"
   ]
  },
  {
   "cell_type": "code",
   "execution_count": 3,
   "id": "a4f7eb35",
   "metadata": {},
   "outputs": [],
   "source": [
    "cat_cols_to_use = ['homeplanet', 'cabin', 'destination']\n",
    "final_cols = cat_cols_to_use + list(num_cols)\n",
    "\n",
    "\n",
    "# Split data into train and validation\n",
    "df_train, df_val = train_test_split(df, test_size=0.2, random_state=1)\n",
    "\n",
    "# Split data into X and y\n",
    "X_train = df_train.drop(target, axis=1)\n",
    "y_train = df_train[target]\n",
    "\n",
    "X_val = df_val.drop(target, axis=1)\n",
    "y_val = df_val[target]\n",
    "\n",
    "# convert to dicts\n",
    "train_dicts = X_train[final_cols].to_dict(orient='records')\n",
    "dv = DictVectorizer(sparse=False)\n",
    "dv.fit(train_dicts)\n",
    "\n",
    "X_train = dv.transform(train_dicts)\n",
    "\n",
    "val_dicts = X_val[final_cols].to_dict(orient='records')\n",
    "X_val = dv.transform(val_dicts)"
   ]
  },
  {
   "cell_type": "code",
   "execution_count": 5,
   "id": "f8ebc8f4",
   "metadata": {},
   "outputs": [
    {
     "name": "stdout",
     "output_type": "stream",
     "text": [
      "AUC: 0.878\n",
      "Precision: 0.800\n",
      "Recall: 0.797\n"
     ]
    }
   ],
   "source": [
    "\n",
    "# Train model\n",
    "model = LogisticRegression(solver='liblinear', C=1.0, random_state=1)\n",
    "model.fit(X_train, y_train)\n",
    "\n",
    "# Predict\n",
    "y_pred_prob = model.predict_proba(X_val)[:, 1]\n",
    "y_pred = y_pred > 0.5\n",
    "\n",
    "# Calculate AUC\n",
    "from sklearn.metrics import roc_auc_score, precision_score, recall_score\n",
    "auc = roc_auc_score(y_val, y_pred_prob)\n",
    "print('AUC: %.3f' % auc)\n",
    "print('Precision: %.3f' % precision_score(y_val, y_pred))\n",
    "print('Recall: %.3f' % recall_score(y_val, y_pred))"
   ]
  },
  {
   "cell_type": "code",
   "execution_count": 6,
   "id": "308bf838",
   "metadata": {},
   "outputs": [
    {
     "data": {
      "image/png": "[encoded data removed]",
      "text/plain": [
       "<Figure size 640x480 with 1 Axes>"
      ]
     },
     "metadata": {},
     "output_type": "display_data"
    }
   ],
   "source": [
    "# Plot ROC curve\n",
    "from sklearn.metrics import roc_curve\n",
    "fpr, tpr, thresholds = roc_curve(y_val, y_pred)\n",
    "plt.plot(fpr, tpr, marker='.', label='Logistic')\n",
    "plt.xlabel('False Positive Rate')\n",
    "plt.ylabel('True Positive Rate')\n",
    "plt.legend()\n",
    "plt.show()\n"
   ]
  },
  {
   "cell_type": "code",
   "execution_count": 23,
   "id": "e63ca68e",
   "metadata": {},
   "outputs": [
    {
     "name": "stderr",
     "output_type": "stream",
     "text": [
      "2022-10-26 07:26:11 INFO Replacing \" \" and \"-\" with \"_\" in and  column names and converting to lower case\n",
      "2022-10-26 07:26:11 INFO Converting CryoSleep to binary\n",
      "2022-10-26 07:26:11 INFO Converting VIP to binary\n",
      "2022-10-26 07:26:11 INFO Splitting \"cabin\" from `deck/num/side` to only `deck`\n",
      "2022-10-26 07:26:11 INFO Found 5 categorical columns\n",
      "2022-10-26 07:26:11 INFO Categorical columns: Index(['passengerid', 'homeplanet', 'cabin', 'destination', 'name'], dtype='object')\n",
      "2022-10-26 07:26:11 INFO Found 8 numerical columns\n",
      "2022-10-26 07:26:11 INFO Numerical columns: Index(['cryosleep', 'age', 'vip', 'roomservice', 'foodcourt', 'shoppingmall',\n",
      "       'spa', 'vrdeck'],\n",
      "      dtype='object')\n",
      "2022-10-26 07:26:11 INFO Converting str to lower case\n",
      "2022-10-26 07:26:11 INFO Removing target from cat_cols or num_cols\n",
      "2022-10-26 07:26:11 INFO Filling categorical columns with mode\n",
      "2022-10-26 07:26:11 INFO Filling numerical columns with mean\n",
      "2022-10-26 07:26:11 INFO Saved file: ./submissions/submission_20221026_072611.csv\n",
      "2022-10-26 07:26:11 INFO Saved submission file: ./submissions/submission_20221026_072611.csv\n"
     ]
    }
   ],
   "source": [
    "# clean test data\n",
    "df_test, _, _, _ = basic_preprocess(test, train=False)\n",
    "\n",
    "# convert to dicts\n",
    "test_dicts = df_test[final_cols].to_dict(orient='records')\n",
    "X_test = dv.transform(test_dicts)\n",
    "\n",
    "# Predict\n",
    "y_pred_prob = model.predict_proba(X_test)[:, 1]\n",
    "y_pred = y_pred_prob > 0.5\n",
    "\n",
    "\n",
    "# Save predictions\n",
    "df_test['transported'] = y_pred\n",
    "# save file with current timestamp if content is different\n",
    "filename = './submissions/submission_' + datetime.now().strftime(\"%Y%m%d_%H%M%S\") + '.csv'\n",
    "submission_df = df_test[['passengerid', 'transported']]\n",
    "submission_df.columns = ['PassengerId', 'Transported']\n",
    "submission_df.to_csv(filename, index=False)\n",
    "logging.info(f\"Saved file: {filename}\")\n",
    "logging.info(f'Saved submission file: {filename}')"
   ]
  },
  {
   "cell_type": "code",
   "execution_count": 21,
   "id": "42c04946",
   "metadata": {},
   "outputs": [],
   "source": []
  },
  {
   "cell_type": "code",
   "execution_count": 1,
   "id": "590c07e8",
   "metadata": {},
   "outputs": [
    {
     "ename": "NameError",
     "evalue": "name 'df_test' is not defined",
     "output_type": "error",
     "traceback": [
      "\u001b[0;31m---------------------------------------------------------------------------\u001b[0m",
      "\u001b[0;31mNameError\u001b[0m                                 Traceback (most recent call last)",
      "\u001b[1;32m/home/ubuntu/mlzoomcamp/machine-learning/mlzoomcamp-2022/projects/Midterm/eda.ipynb Cell 7\u001b[0m in \u001b[0;36m<cell line: 1>\u001b[0;34m()\u001b[0m\n\u001b[0;32m----> <a href='vscode-notebook-cell://ssh-remote%2B7b22686f73744e616d65223a226563322d332d38372d3234362d3134322e636f6d707574652d312e616d617a6f6e6177732e636f6d222c2275736572223a227562756e7475227d/home/ubuntu/mlzoomcamp/machine-learning/mlzoomcamp-2022/projects/Midterm/eda.ipynb#W6sdnNjb2RlLXJlbW90ZQ%3D%3D?line=0'>1</a>\u001b[0m df_test\u001b[39m.\u001b[39mhead()\n",
      "\u001b[0;31mNameError\u001b[0m: name 'df_test' is not defined"
     ]
    }
   ],
   "source": [
    "df_test.head()"
   ]
  },
  {
   "cell_type": "code",
   "execution_count": null,
   "id": "000b38aa",
   "metadata": {},
   "outputs": [],
   "source": []
  }
 ],
 "metadata": {
  "kernelspec": {
   "display_name": "Python 3 (ipykernel)",
   "language": "python",
   "name": "python3"
  },
  "language_info": {
   "codemirror_mode": {
    "name": "ipython",
    "version": 3
   },
   "file_extension": ".py",
   "mimetype": "text/x-python",
   "name": "python",
   "nbconvert_exporter": "python",
   "pygments_lexer": "ipython3",
   "version": "3.9.13"
  }
 },
 "nbformat": 4,
 "nbformat_minor": 5
}
