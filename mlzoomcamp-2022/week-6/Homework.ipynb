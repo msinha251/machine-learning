{
 "cells": [
  {
   "cell_type": "code",
   "execution_count": 3,
   "id": "170da78d",
   "metadata": {},
   "outputs": [
    {
     "name": "stdout",
     "output_type": "stream",
     "text": [
      "  % Total    % Received % Xferd  Average Speed   Time    Time     Time  Current\n",
      "                                 Dload  Upload   Total   Spent    Left  Speed\n",
      "100 1390k  100 1390k    0     0  6014k      0 --:--:-- --:--:-- --:--:-- 6018k\n"
     ]
    }
   ],
   "source": [
    "#download data\n",
    "!curl --create-dirs -o './data/data.csv' 'https://raw.githubusercontent.com/alexeygrigorev/datasets/master/housing.csv'\n"
   ]
  },
  {
   "cell_type": "code",
   "execution_count": 1,
   "id": "b02dc710",
   "metadata": {},
   "outputs": [],
   "source": [
    "#import libs\n",
    "import pandas as pd\n",
    "import numpy as np\n",
    "import matplotlib.pyplot as plt\n",
    "import seaborn as sns\n",
    "from IPython import display\n",
    "from sklearn.ensemble import RandomForestRegressor\n",
    "from sklearn.metrics import mean_squared_error"
   ]
  },
  {
   "cell_type": "code",
   "execution_count": 2,
   "id": "aa3481e8",
   "metadata": {},
   "outputs": [
    {
     "data": {
      "text/html": [
       "<div>\n",
       "<style scoped>\n",
       "    .dataframe tbody tr th:only-of-type {\n",
       "        vertical-align: middle;\n",
       "    }\n",
       "\n",
       "    .dataframe tbody tr th {\n",
       "        vertical-align: top;\n",
       "    }\n",
       "\n",
       "    .dataframe thead th {\n",
       "        text-align: right;\n",
       "    }\n",
       "</style>\n",
       "<table border=\"1\" class=\"dataframe\">\n",
       "  <thead>\n",
       "    <tr style=\"text-align: right;\">\n",
       "      <th></th>\n",
       "      <th>longitude</th>\n",
       "      <th>latitude</th>\n",
       "      <th>housing_median_age</th>\n",
       "      <th>total_rooms</th>\n",
       "      <th>total_bedrooms</th>\n",
       "      <th>population</th>\n",
       "      <th>households</th>\n",
       "      <th>median_income</th>\n",
       "      <th>median_house_value</th>\n",
       "      <th>ocean_proximity</th>\n",
       "    </tr>\n",
       "  </thead>\n",
       "  <tbody>\n",
       "    <tr>\n",
       "      <th>0</th>\n",
       "      <td>-122.23</td>\n",
       "      <td>37.88</td>\n",
       "      <td>41.0</td>\n",
       "      <td>880.0</td>\n",
       "      <td>129.0</td>\n",
       "      <td>322.0</td>\n",
       "      <td>126.0</td>\n",
       "      <td>8.3252</td>\n",
       "      <td>452600.0</td>\n",
       "      <td>NEAR BAY</td>\n",
       "    </tr>\n",
       "    <tr>\n",
       "      <th>1</th>\n",
       "      <td>-122.22</td>\n",
       "      <td>37.86</td>\n",
       "      <td>21.0</td>\n",
       "      <td>7099.0</td>\n",
       "      <td>1106.0</td>\n",
       "      <td>2401.0</td>\n",
       "      <td>1138.0</td>\n",
       "      <td>8.3014</td>\n",
       "      <td>358500.0</td>\n",
       "      <td>NEAR BAY</td>\n",
       "    </tr>\n",
       "    <tr>\n",
       "      <th>2</th>\n",
       "      <td>-122.24</td>\n",
       "      <td>37.85</td>\n",
       "      <td>52.0</td>\n",
       "      <td>1467.0</td>\n",
       "      <td>190.0</td>\n",
       "      <td>496.0</td>\n",
       "      <td>177.0</td>\n",
       "      <td>7.2574</td>\n",
       "      <td>352100.0</td>\n",
       "      <td>NEAR BAY</td>\n",
       "    </tr>\n",
       "    <tr>\n",
       "      <th>3</th>\n",
       "      <td>-122.25</td>\n",
       "      <td>37.85</td>\n",
       "      <td>52.0</td>\n",
       "      <td>1274.0</td>\n",
       "      <td>235.0</td>\n",
       "      <td>558.0</td>\n",
       "      <td>219.0</td>\n",
       "      <td>5.6431</td>\n",
       "      <td>341300.0</td>\n",
       "      <td>NEAR BAY</td>\n",
       "    </tr>\n",
       "    <tr>\n",
       "      <th>4</th>\n",
       "      <td>-122.25</td>\n",
       "      <td>37.85</td>\n",
       "      <td>52.0</td>\n",
       "      <td>1627.0</td>\n",
       "      <td>280.0</td>\n",
       "      <td>565.0</td>\n",
       "      <td>259.0</td>\n",
       "      <td>3.8462</td>\n",
       "      <td>342200.0</td>\n",
       "      <td>NEAR BAY</td>\n",
       "    </tr>\n",
       "  </tbody>\n",
       "</table>\n",
       "</div>"
      ],
      "text/plain": [
       "   longitude  latitude  housing_median_age  total_rooms  total_bedrooms  \\\n",
       "0    -122.23     37.88                41.0        880.0           129.0   \n",
       "1    -122.22     37.86                21.0       7099.0          1106.0   \n",
       "2    -122.24     37.85                52.0       1467.0           190.0   \n",
       "3    -122.25     37.85                52.0       1274.0           235.0   \n",
       "4    -122.25     37.85                52.0       1627.0           280.0   \n",
       "\n",
       "   population  households  median_income  median_house_value ocean_proximity  \n",
       "0       322.0       126.0         8.3252            452600.0        NEAR BAY  \n",
       "1      2401.0      1138.0         8.3014            358500.0        NEAR BAY  \n",
       "2       496.0       177.0         7.2574            352100.0        NEAR BAY  \n",
       "3       558.0       219.0         5.6431            341300.0        NEAR BAY  \n",
       "4       565.0       259.0         3.8462            342200.0        NEAR BAY  "
      ]
     },
     "execution_count": 2,
     "metadata": {},
     "output_type": "execute_result"
    }
   ],
   "source": [
    "#load data:\n",
    "df = pd.read_csv('./data/data.csv')\n",
    "df.head()"
   ]
  },
  {
   "cell_type": "code",
   "execution_count": 3,
   "id": "b59c2ed6",
   "metadata": {},
   "outputs": [
    {
     "data": {
      "text/plain": [
       "dtype('float64')"
      ]
     },
     "execution_count": 3,
     "metadata": {},
     "output_type": "execute_result"
    }
   ],
   "source": [
    "df.dtypes.longitude"
   ]
  },
  {
   "cell_type": "code",
   "execution_count": 4,
   "id": "ee8049d7",
   "metadata": {},
   "outputs": [],
   "source": [
    "# filter num and cat cols:\n",
    "cat_cols = []\n",
    "num_cols = []\n",
    "target = 'median_house_value'\n",
    "def filter_cat_num_cols(df, target):\n",
    "    for col in df.columns:\n",
    "        if df.dtypes[col] == 'object' and col != target:\n",
    "            cat_cols.append(col)\n",
    "        elif col != target:\n",
    "            num_cols.append(col)\n",
    "    return cat_cols, num_cols\n",
    "\n",
    "cat_cols, num_cols = filter_cat_num_cols(df, target)"
   ]
  },
  {
   "cell_type": "code",
   "execution_count": null,
   "id": "f50de712",
   "metadata": {},
   "outputs": [],
   "source": []
  },
  {
   "cell_type": "code",
   "execution_count": 5,
   "id": "51ebe601",
   "metadata": {},
   "outputs": [],
   "source": [
    "#fill spaces and - with underscore for cat columns:\n",
    "for col in cat_cols:\n",
    "    df[col] = df[col].str.replace(' ', '_').str.replace('-', '_').str.replace('<', '_')\n"
   ]
  },
  {
   "cell_type": "code",
   "execution_count": 6,
   "id": "1d3b0b4e",
   "metadata": {},
   "outputs": [],
   "source": [
    "#fill na with 0:\n",
    "df.total_bedrooms.fillna(0, inplace=True)"
   ]
  },
  {
   "cell_type": "code",
   "execution_count": 7,
   "id": "5c1a66a7",
   "metadata": {},
   "outputs": [
    {
     "data": {
      "text/plain": [
       "longitude             0\n",
       "latitude              0\n",
       "housing_median_age    0\n",
       "total_rooms           0\n",
       "total_bedrooms        0\n",
       "population            0\n",
       "households            0\n",
       "median_income         0\n",
       "median_house_value    0\n",
       "ocean_proximity       0\n",
       "dtype: int64"
      ]
     },
     "execution_count": 7,
     "metadata": {},
     "output_type": "execute_result"
    }
   ],
   "source": [
    "df.isnull().sum()"
   ]
  },
  {
   "cell_type": "code",
   "execution_count": 8,
   "id": "27c846ac",
   "metadata": {},
   "outputs": [],
   "source": [
    "# Apply log tranform to median_house_value.\n",
    "\n",
    "df[target] = np.log1p(df[target])"
   ]
  },
  {
   "cell_type": "code",
   "execution_count": 9,
   "id": "b82869f3",
   "metadata": {},
   "outputs": [
    {
     "name": "stdout",
     "output_type": "stream",
     "text": [
      "Train_full shape: (16512, 10)\n",
      "Train shape: (12384, 10)\n",
      "Val shape: (4128, 10)\n",
      "Test shape: (4128, 10)\n"
     ]
    }
   ],
   "source": [
    "# train/validation/test split with 60%/20%/20% distribution.\n",
    "from sklearn.model_selection import train_test_split\n",
    "\n",
    "\n",
    "train_full, test = train_test_split(df, test_size=0.2, random_state=1)\n",
    "train, val = train_test_split(train_full, test_size=0.25, random_state=1)\n",
    "\n",
    "train.reset_index(drop=True, inplace=True)\n",
    "val.reset_index(drop=True, inplace=True)\n",
    "test.reset_index(drop=True, inplace=True)\n",
    "\n",
    "print(f'Train_full shape: {train_full.shape}')\n",
    "print(f'Train shape: {train.shape}')\n",
    "print(f'Val shape: {val.shape}')\n",
    "print(f'Test shape: {test.shape}')\n",
    "\n",
    "y_train = train[target].values\n",
    "y_val = val[target].values\n",
    "y_test = test[target].values\n",
    "\n",
    "del train[target]\n",
    "del val[target]\n",
    "del test[target]\n"
   ]
  },
  {
   "cell_type": "code",
   "execution_count": 10,
   "id": "5260147c",
   "metadata": {},
   "outputs": [],
   "source": [
    "# Use DictVectorizer to turn the dataframe into matrices.\n",
    "from sklearn.feature_extraction import DictVectorizer\n",
    "\n",
    "train_dict = train[cat_cols+num_cols].to_dict(orient='records')\n",
    "val_dict = val.to_dict(orient='records')\n",
    "\n",
    "dv = DictVectorizer(sparse=False)\n",
    "X_train = dv.fit_transform(train_dict)\n",
    "X_val = dv.transform(val_dict)"
   ]
  },
  {
   "cell_type": "code",
   "execution_count": null,
   "id": "c4b32664",
   "metadata": {},
   "outputs": [],
   "source": []
  },
  {
   "cell_type": "markdown",
   "id": "1e50ec12",
   "metadata": {},
   "source": [
    "### Question 1\n",
    "Let's train a decision tree regressor to predict the median_house_value variable.\n",
    "\n",
    "Train a model with max_depth=1.\n",
    "\n",
    "#### Which feature is used for splitting the data?\n",
    "\n",
    "* ocean_proximity=INLAND\n",
    "* total_rooms\n",
    "* latitude\n",
    "* population"
   ]
  },
  {
   "cell_type": "code",
   "execution_count": 11,
   "id": "34b50ca1",
   "metadata": {},
   "outputs": [
    {
     "name": "stdout",
     "output_type": "stream",
     "text": [
      "|--- ocean_proximity=INLAND <= 0.50\n",
      "|   |--- value: [12.31]\n",
      "|--- ocean_proximity=INLAND >  0.50\n",
      "|   |--- value: [11.61]\n",
      "\n"
     ]
    },
    {
     "name": "stderr",
     "output_type": "stream",
     "text": [
      "/home/ubuntu/anaconda3/envs/ml-zoomcamp/lib/python3.9/site-packages/sklearn/utils/deprecation.py:87: FutureWarning: Function get_feature_names is deprecated; get_feature_names is deprecated in 1.0 and will be removed in 1.2. Please use get_feature_names_out instead.\n",
      "  warnings.warn(msg, category=FutureWarning)\n"
     ]
    }
   ],
   "source": [
    "# ANSWER is ocean_proximity=INLAND\n",
    "\n",
    "from sklearn.tree import DecisionTreeRegressor\n",
    "\n",
    "dt = DecisionTreeRegressor(max_depth=1)\n",
    "dt.fit(X_train, y_train)\n",
    "\n",
    "from sklearn.tree import export_text\n",
    "print(export_text(dt, feature_names=dv.get_feature_names()))\n",
    "\n"
   ]
  },
  {
   "cell_type": "code",
   "execution_count": null,
   "id": "76e8a215",
   "metadata": {},
   "outputs": [],
   "source": []
  },
  {
   "cell_type": "markdown",
   "id": "b1109f75",
   "metadata": {},
   "source": [
    "### Question 2\n",
    "Train a random forest model with these parameters:\n",
    "\n",
    "```\n",
    "n_estimators=10\n",
    "random_state=1\n",
    "n_jobs=-1 (optional - to make training faster)\n",
    "```\n",
    "\n",
    "#### What's the RMSE of this model on validation?\n",
    "\n",
    "\n",
    "* 0.05\n",
    "* 0.25\n",
    "* 0.55\n",
    "* 0.85"
   ]
  },
  {
   "cell_type": "code",
   "execution_count": 12,
   "id": "1f24b8a1",
   "metadata": {},
   "outputs": [
    {
     "data": {
      "text/plain": [
       "0.24522823511974276"
      ]
     },
     "execution_count": 12,
     "metadata": {},
     "output_type": "execute_result"
    }
   ],
   "source": [
    "#ANSWER: 0.25\n",
    "\n",
    "rf = RandomForestRegressor(n_estimators=10, random_state=1, n_jobs=-1)\n",
    "rf.fit(X_train, y_train)\n",
    "\n",
    "preds = rf.predict(X_val)\n",
    "rmse_score = mean_squared_error(y_val, preds, squared=False)\n",
    "rmse_score"
   ]
  },
  {
   "cell_type": "code",
   "execution_count": null,
   "id": "3a7c5148",
   "metadata": {},
   "outputs": [],
   "source": []
  },
  {
   "cell_type": "markdown",
   "id": "c334954a",
   "metadata": {},
   "source": [
    "### Question 3\n",
    "Now let's experiment with the n_estimators parameter\n",
    "```\n",
    "Try different values of this parameter from 10 to 200 with step 10.\n",
    "Set random_state to 1.\n",
    "Evaluate the model on the validation dataset.\n",
    "```\n",
    "#### After which value of n_estimators does RMSE stop improving?\n",
    "\n",
    "* 10\n",
    "* 55\n",
    "* 75\n",
    "* 150\n"
   ]
  },
  {
   "cell_type": "code",
   "execution_count": 13,
   "id": "285a5785",
   "metadata": {},
   "outputs": [
    {
     "name": "stdout",
     "output_type": "stream",
     "text": [
      "n_estimator : 10\n",
      "n_estimator : 20\n",
      "n_estimator : 30\n",
      "n_estimator : 40\n",
      "n_estimator : 50\n",
      "n_estimator : 60\n",
      "n_estimator : 70\n",
      "n_estimator : 80\n",
      "n_estimator : 90\n",
      "n_estimator : 100\n",
      "n_estimator : 110\n",
      "n_estimator : 120\n",
      "n_estimator : 130\n",
      "n_estimator : 140\n",
      "n_estimator : 150\n",
      "n_estimator : 160\n",
      "n_estimator : 170\n",
      "n_estimator : 180\n",
      "n_estimator : 190\n",
      "n_estimator : 200\n"
     ]
    }
   ],
   "source": [
    "#ANSWER: 75\n",
    "\n",
    "scores = []\n",
    "\n",
    "for n in range(10, 201, 10):\n",
    "    print(f'n_estimator : {n}')\n",
    "    rf = RandomForestRegressor(n_estimators=n, random_state=1, n_jobs=-1)\n",
    "    rf.fit(X_train, y_train)\n",
    "    \n",
    "    preds = rf.predict(X_val)\n",
    "    score = round(mean_squared_error(y_val, preds, squared=False), 3)\n",
    "    scores.append((n, score))\n"
   ]
  },
  {
   "cell_type": "code",
   "execution_count": 14,
   "id": "63f113b8",
   "metadata": {},
   "outputs": [
    {
     "data": {
      "text/html": [
       "<div>\n",
       "<style scoped>\n",
       "    .dataframe tbody tr th:only-of-type {\n",
       "        vertical-align: middle;\n",
       "    }\n",
       "\n",
       "    .dataframe tbody tr th {\n",
       "        vertical-align: top;\n",
       "    }\n",
       "\n",
       "    .dataframe thead th {\n",
       "        text-align: right;\n",
       "    }\n",
       "</style>\n",
       "<table border=\"1\" class=\"dataframe\">\n",
       "  <thead>\n",
       "    <tr style=\"text-align: right;\">\n",
       "      <th></th>\n",
       "      <th>n_estimators</th>\n",
       "      <th>rmse_scores</th>\n",
       "    </tr>\n",
       "  </thead>\n",
       "  <tbody>\n",
       "    <tr>\n",
       "      <th>0</th>\n",
       "      <td>10</td>\n",
       "      <td>0.245</td>\n",
       "    </tr>\n",
       "    <tr>\n",
       "      <th>1</th>\n",
       "      <td>20</td>\n",
       "      <td>0.238</td>\n",
       "    </tr>\n",
       "    <tr>\n",
       "      <th>2</th>\n",
       "      <td>30</td>\n",
       "      <td>0.235</td>\n",
       "    </tr>\n",
       "    <tr>\n",
       "      <th>3</th>\n",
       "      <td>40</td>\n",
       "      <td>0.235</td>\n",
       "    </tr>\n",
       "    <tr>\n",
       "      <th>4</th>\n",
       "      <td>50</td>\n",
       "      <td>0.233</td>\n",
       "    </tr>\n",
       "  </tbody>\n",
       "</table>\n",
       "</div>"
      ],
      "text/plain": [
       "   n_estimators  rmse_scores\n",
       "0            10        0.245\n",
       "1            20        0.238\n",
       "2            30        0.235\n",
       "3            40        0.235\n",
       "4            50        0.233"
      ]
     },
     "execution_count": 14,
     "metadata": {},
     "output_type": "execute_result"
    }
   ],
   "source": [
    "cols = ['n_estimators', 'rmse_scores']\n",
    "df_scores = pd.DataFrame(scores, columns = cols)\n",
    "df_scores.head()"
   ]
  },
  {
   "cell_type": "code",
   "execution_count": 15,
   "id": "07c96e39",
   "metadata": {},
   "outputs": [
    {
     "data": {
      "text/plain": [
       "(0.231, 0.234)"
      ]
     },
     "execution_count": 15,
     "metadata": {},
     "output_type": "execute_result"
    },
    {
     "data": {
      "image/png": "[encoded data removed]",
      "text/plain": [
       "<Figure size 640x480 with 1 Axes>"
      ]
     },
     "metadata": {},
     "output_type": "display_data"
    }
   ],
   "source": [
    "plt.plot(df_scores.n_estimators, df_scores.rmse_scores)\n",
    "plt.ylim((0.231, 0.234))"
   ]
  },
  {
   "cell_type": "code",
   "execution_count": null,
   "id": "c7a7843a",
   "metadata": {},
   "outputs": [],
   "source": []
  },
  {
   "cell_type": "markdown",
   "id": "81573161",
   "metadata": {},
   "source": [
    "### Question 4\n",
    "Let's select the best max_depth:\n",
    "\n",
    "```\n",
    "Try different values of max_depth: [10, 15, 20, 25]\n",
    "For each of these values, try different values of n_estimators from 10 till 200 (with step 10)\n",
    "Fix the random seed: random_state=1\n",
    "```\n",
    "#### What's the best max_depth:\n",
    "\n",
    "* 10\n",
    "* 15\n",
    "* 20\n",
    "* 25"
   ]
  },
  {
   "cell_type": "code",
   "execution_count": 18,
   "id": "5097a3af",
   "metadata": {
    "scrolled": true
   },
   "outputs": [
    {
     "name": "stdout",
     "output_type": "stream",
     "text": [
      "n_estimator : 10, max_depth : 10 --> 0.255\n",
      "n_estimator : 10, max_depth : 15 --> 0.246\n",
      "n_estimator : 10, max_depth : 20 --> 0.246\n",
      "n_estimator : 10, max_depth : 25 --> 0.247\n",
      "n_estimator : 20, max_depth : 10 --> 0.252\n",
      "n_estimator : 20, max_depth : 15 --> 0.24\n",
      "n_estimator : 20, max_depth : 20 --> 0.239\n",
      "n_estimator : 20, max_depth : 25 --> 0.239\n",
      "n_estimator : 30, max_depth : 10 --> 0.251\n",
      "n_estimator : 30, max_depth : 15 --> 0.238\n",
      "n_estimator : 30, max_depth : 20 --> 0.236\n",
      "n_estimator : 30, max_depth : 25 --> 0.236\n",
      "n_estimator : 40, max_depth : 10 --> 0.251\n",
      "n_estimator : 40, max_depth : 15 --> 0.237\n",
      "n_estimator : 40, max_depth : 20 --> 0.235\n"
     ]
    },
    {
     "ename": "KeyboardInterrupt",
     "evalue": "",
     "output_type": "error",
     "traceback": [
      "\u001b[0;31m---------------------------------------------------------------------------\u001b[0m",
      "\u001b[0;31mKeyboardInterrupt\u001b[0m                         Traceback (most recent call last)",
      "Input \u001b[0;32mIn [18]\u001b[0m, in \u001b[0;36m<cell line: 4>\u001b[0;34m()\u001b[0m\n\u001b[1;32m      6\u001b[0m rf \u001b[38;5;241m=\u001b[39m RandomForestRegressor(n_estimators\u001b[38;5;241m=\u001b[39mn, max_depth\u001b[38;5;241m=\u001b[39mmd, random_state\u001b[38;5;241m=\u001b[39m\u001b[38;5;241m1\u001b[39m, n_jobs\u001b[38;5;241m=\u001b[39m\u001b[38;5;241m-\u001b[39m\u001b[38;5;241m1\u001b[39m)\n\u001b[1;32m      7\u001b[0m rf\u001b[38;5;241m.\u001b[39mfit(X_train, y_train)\n\u001b[0;32m----> 9\u001b[0m preds \u001b[38;5;241m=\u001b[39m \u001b[43mrf\u001b[49m\u001b[38;5;241;43m.\u001b[39;49m\u001b[43mpredict\u001b[49m\u001b[43m(\u001b[49m\u001b[43mX_val\u001b[49m\u001b[43m)\u001b[49m\n\u001b[1;32m     10\u001b[0m score \u001b[38;5;241m=\u001b[39m \u001b[38;5;28mround\u001b[39m(mean_squared_error(y_val, preds, squared\u001b[38;5;241m=\u001b[39m\u001b[38;5;28;01mFalse\u001b[39;00m), \u001b[38;5;241m3\u001b[39m)\n\u001b[1;32m     11\u001b[0m scores\u001b[38;5;241m.\u001b[39mappend((n, md, score))\n",
      "File \u001b[0;32m~/anaconda3/envs/ml-zoomcamp/lib/python3.9/site-packages/sklearn/ensemble/_forest.py:1004\u001b[0m, in \u001b[0;36mForestRegressor.predict\u001b[0;34m(self, X)\u001b[0m\n\u001b[1;32m   1002\u001b[0m \u001b[38;5;66;03m# Parallel loop\u001b[39;00m\n\u001b[1;32m   1003\u001b[0m lock \u001b[38;5;241m=\u001b[39m threading\u001b[38;5;241m.\u001b[39mLock()\n\u001b[0;32m-> 1004\u001b[0m \u001b[43mParallel\u001b[49m\u001b[43m(\u001b[49m\u001b[43mn_jobs\u001b[49m\u001b[38;5;241;43m=\u001b[39;49m\u001b[43mn_jobs\u001b[49m\u001b[43m,\u001b[49m\u001b[43m \u001b[49m\u001b[43mverbose\u001b[49m\u001b[38;5;241;43m=\u001b[39;49m\u001b[38;5;28;43mself\u001b[39;49m\u001b[38;5;241;43m.\u001b[39;49m\u001b[43mverbose\u001b[49m\u001b[43m,\u001b[49m\u001b[43m \u001b[49m\u001b[43mrequire\u001b[49m\u001b[38;5;241;43m=\u001b[39;49m\u001b[38;5;124;43m\"\u001b[39;49m\u001b[38;5;124;43msharedmem\u001b[39;49m\u001b[38;5;124;43m\"\u001b[39;49m\u001b[43m)\u001b[49m\u001b[43m(\u001b[49m\n\u001b[1;32m   1005\u001b[0m \u001b[43m    \u001b[49m\u001b[43mdelayed\u001b[49m\u001b[43m(\u001b[49m\u001b[43m_accumulate_prediction\u001b[49m\u001b[43m)\u001b[49m\u001b[43m(\u001b[49m\u001b[43me\u001b[49m\u001b[38;5;241;43m.\u001b[39;49m\u001b[43mpredict\u001b[49m\u001b[43m,\u001b[49m\u001b[43m \u001b[49m\u001b[43mX\u001b[49m\u001b[43m,\u001b[49m\u001b[43m \u001b[49m\u001b[43m[\u001b[49m\u001b[43my_hat\u001b[49m\u001b[43m]\u001b[49m\u001b[43m,\u001b[49m\u001b[43m \u001b[49m\u001b[43mlock\u001b[49m\u001b[43m)\u001b[49m\n\u001b[1;32m   1006\u001b[0m \u001b[43m    \u001b[49m\u001b[38;5;28;43;01mfor\u001b[39;49;00m\u001b[43m \u001b[49m\u001b[43me\u001b[49m\u001b[43m \u001b[49m\u001b[38;5;129;43;01min\u001b[39;49;00m\u001b[43m \u001b[49m\u001b[38;5;28;43mself\u001b[39;49m\u001b[38;5;241;43m.\u001b[39;49m\u001b[43mestimators_\u001b[49m\n\u001b[1;32m   1007\u001b[0m \u001b[43m\u001b[49m\u001b[43m)\u001b[49m\n\u001b[1;32m   1009\u001b[0m y_hat \u001b[38;5;241m/\u001b[39m\u001b[38;5;241m=\u001b[39m \u001b[38;5;28mlen\u001b[39m(\u001b[38;5;28mself\u001b[39m\u001b[38;5;241m.\u001b[39mestimators_)\n\u001b[1;32m   1011\u001b[0m \u001b[38;5;28;01mreturn\u001b[39;00m y_hat\n",
      "File \u001b[0;32m~/anaconda3/envs/ml-zoomcamp/lib/python3.9/site-packages/joblib/parallel.py:1056\u001b[0m, in \u001b[0;36mParallel.__call__\u001b[0;34m(self, iterable)\u001b[0m\n\u001b[1;32m   1053\u001b[0m     \u001b[38;5;28mself\u001b[39m\u001b[38;5;241m.\u001b[39m_iterating \u001b[38;5;241m=\u001b[39m \u001b[38;5;28;01mFalse\u001b[39;00m\n\u001b[1;32m   1055\u001b[0m \u001b[38;5;28;01mwith\u001b[39;00m \u001b[38;5;28mself\u001b[39m\u001b[38;5;241m.\u001b[39m_backend\u001b[38;5;241m.\u001b[39mretrieval_context():\n\u001b[0;32m-> 1056\u001b[0m     \u001b[38;5;28;43mself\u001b[39;49m\u001b[38;5;241;43m.\u001b[39;49m\u001b[43mretrieve\u001b[49m\u001b[43m(\u001b[49m\u001b[43m)\u001b[49m\n\u001b[1;32m   1057\u001b[0m \u001b[38;5;66;03m# Make sure that we get a last message telling us we are done\u001b[39;00m\n\u001b[1;32m   1058\u001b[0m elapsed_time \u001b[38;5;241m=\u001b[39m time\u001b[38;5;241m.\u001b[39mtime() \u001b[38;5;241m-\u001b[39m \u001b[38;5;28mself\u001b[39m\u001b[38;5;241m.\u001b[39m_start_time\n",
      "File \u001b[0;32m~/anaconda3/envs/ml-zoomcamp/lib/python3.9/site-packages/joblib/parallel.py:935\u001b[0m, in \u001b[0;36mParallel.retrieve\u001b[0;34m(self)\u001b[0m\n\u001b[1;32m    933\u001b[0m \u001b[38;5;28;01mtry\u001b[39;00m:\n\u001b[1;32m    934\u001b[0m     \u001b[38;5;28;01mif\u001b[39;00m \u001b[38;5;28mgetattr\u001b[39m(\u001b[38;5;28mself\u001b[39m\u001b[38;5;241m.\u001b[39m_backend, \u001b[38;5;124m'\u001b[39m\u001b[38;5;124msupports_timeout\u001b[39m\u001b[38;5;124m'\u001b[39m, \u001b[38;5;28;01mFalse\u001b[39;00m):\n\u001b[0;32m--> 935\u001b[0m         \u001b[38;5;28mself\u001b[39m\u001b[38;5;241m.\u001b[39m_output\u001b[38;5;241m.\u001b[39mextend(\u001b[43mjob\u001b[49m\u001b[38;5;241;43m.\u001b[39;49m\u001b[43mget\u001b[49m\u001b[43m(\u001b[49m\u001b[43mtimeout\u001b[49m\u001b[38;5;241;43m=\u001b[39;49m\u001b[38;5;28;43mself\u001b[39;49m\u001b[38;5;241;43m.\u001b[39;49m\u001b[43mtimeout\u001b[49m\u001b[43m)\u001b[49m)\n\u001b[1;32m    936\u001b[0m     \u001b[38;5;28;01melse\u001b[39;00m:\n\u001b[1;32m    937\u001b[0m         \u001b[38;5;28mself\u001b[39m\u001b[38;5;241m.\u001b[39m_output\u001b[38;5;241m.\u001b[39mextend(job\u001b[38;5;241m.\u001b[39mget())\n",
      "File \u001b[0;32m~/anaconda3/envs/ml-zoomcamp/lib/python3.9/multiprocessing/pool.py:765\u001b[0m, in \u001b[0;36mApplyResult.get\u001b[0;34m(self, timeout)\u001b[0m\n\u001b[1;32m    764\u001b[0m \u001b[38;5;28;01mdef\u001b[39;00m \u001b[38;5;21mget\u001b[39m(\u001b[38;5;28mself\u001b[39m, timeout\u001b[38;5;241m=\u001b[39m\u001b[38;5;28;01mNone\u001b[39;00m):\n\u001b[0;32m--> 765\u001b[0m     \u001b[38;5;28;43mself\u001b[39;49m\u001b[38;5;241;43m.\u001b[39;49m\u001b[43mwait\u001b[49m\u001b[43m(\u001b[49m\u001b[43mtimeout\u001b[49m\u001b[43m)\u001b[49m\n\u001b[1;32m    766\u001b[0m     \u001b[38;5;28;01mif\u001b[39;00m \u001b[38;5;129;01mnot\u001b[39;00m \u001b[38;5;28mself\u001b[39m\u001b[38;5;241m.\u001b[39mready():\n\u001b[1;32m    767\u001b[0m         \u001b[38;5;28;01mraise\u001b[39;00m \u001b[38;5;167;01mTimeoutError\u001b[39;00m\n",
      "File \u001b[0;32m~/anaconda3/envs/ml-zoomcamp/lib/python3.9/multiprocessing/pool.py:762\u001b[0m, in \u001b[0;36mApplyResult.wait\u001b[0;34m(self, timeout)\u001b[0m\n\u001b[1;32m    761\u001b[0m \u001b[38;5;28;01mdef\u001b[39;00m \u001b[38;5;21mwait\u001b[39m(\u001b[38;5;28mself\u001b[39m, timeout\u001b[38;5;241m=\u001b[39m\u001b[38;5;28;01mNone\u001b[39;00m):\n\u001b[0;32m--> 762\u001b[0m     \u001b[38;5;28;43mself\u001b[39;49m\u001b[38;5;241;43m.\u001b[39;49m\u001b[43m_event\u001b[49m\u001b[38;5;241;43m.\u001b[39;49m\u001b[43mwait\u001b[49m\u001b[43m(\u001b[49m\u001b[43mtimeout\u001b[49m\u001b[43m)\u001b[49m\n",
      "File \u001b[0;32m~/anaconda3/envs/ml-zoomcamp/lib/python3.9/threading.py:581\u001b[0m, in \u001b[0;36mEvent.wait\u001b[0;34m(self, timeout)\u001b[0m\n\u001b[1;32m    579\u001b[0m signaled \u001b[38;5;241m=\u001b[39m \u001b[38;5;28mself\u001b[39m\u001b[38;5;241m.\u001b[39m_flag\n\u001b[1;32m    580\u001b[0m \u001b[38;5;28;01mif\u001b[39;00m \u001b[38;5;129;01mnot\u001b[39;00m signaled:\n\u001b[0;32m--> 581\u001b[0m     signaled \u001b[38;5;241m=\u001b[39m \u001b[38;5;28;43mself\u001b[39;49m\u001b[38;5;241;43m.\u001b[39;49m\u001b[43m_cond\u001b[49m\u001b[38;5;241;43m.\u001b[39;49m\u001b[43mwait\u001b[49m\u001b[43m(\u001b[49m\u001b[43mtimeout\u001b[49m\u001b[43m)\u001b[49m\n\u001b[1;32m    582\u001b[0m \u001b[38;5;28;01mreturn\u001b[39;00m signaled\n",
      "File \u001b[0;32m~/anaconda3/envs/ml-zoomcamp/lib/python3.9/threading.py:312\u001b[0m, in \u001b[0;36mCondition.wait\u001b[0;34m(self, timeout)\u001b[0m\n\u001b[1;32m    310\u001b[0m \u001b[38;5;28;01mtry\u001b[39;00m:    \u001b[38;5;66;03m# restore state no matter what (e.g., KeyboardInterrupt)\u001b[39;00m\n\u001b[1;32m    311\u001b[0m     \u001b[38;5;28;01mif\u001b[39;00m timeout \u001b[38;5;129;01mis\u001b[39;00m \u001b[38;5;28;01mNone\u001b[39;00m:\n\u001b[0;32m--> 312\u001b[0m         \u001b[43mwaiter\u001b[49m\u001b[38;5;241;43m.\u001b[39;49m\u001b[43macquire\u001b[49m\u001b[43m(\u001b[49m\u001b[43m)\u001b[49m\n\u001b[1;32m    313\u001b[0m         gotit \u001b[38;5;241m=\u001b[39m \u001b[38;5;28;01mTrue\u001b[39;00m\n\u001b[1;32m    314\u001b[0m     \u001b[38;5;28;01melse\u001b[39;00m:\n",
      "\u001b[0;31mKeyboardInterrupt\u001b[0m: "
     ]
    }
   ],
   "source": [
    "#ANSWER: 25\n",
    "\n",
    "scores = []\n",
    "for n in range(10, 201, 10):\n",
    "    for md in [10, 15, 20, 25]:\n",
    "        rf = RandomForestRegressor(n_estimators=n, max_depth=md, random_state=1, n_jobs=-1)\n",
    "        rf.fit(X_train, y_train)\n",
    "\n",
    "        preds = rf.predict(X_val)\n",
    "        score = round(mean_squared_error(y_val, preds, squared=False), 3)\n",
    "        scores.append((n, md, score))\n",
    "        \n",
    "        print(f'n_estimator : {n}, max_depth : {md} --> {score}')"
   ]
  },
  {
   "cell_type": "code",
   "execution_count": 19,
   "id": "6731e343",
   "metadata": {},
   "outputs": [
    {
     "data": {
      "text/html": [
       "<div>\n",
       "<style scoped>\n",
       "    .dataframe tbody tr th:only-of-type {\n",
       "        vertical-align: middle;\n",
       "    }\n",
       "\n",
       "    .dataframe tbody tr th {\n",
       "        vertical-align: top;\n",
       "    }\n",
       "\n",
       "    .dataframe thead th {\n",
       "        text-align: right;\n",
       "    }\n",
       "</style>\n",
       "<table border=\"1\" class=\"dataframe\">\n",
       "  <thead>\n",
       "    <tr style=\"text-align: right;\">\n",
       "      <th></th>\n",
       "      <th>n_estimators</th>\n",
       "      <th>max_depth</th>\n",
       "      <th>rmse_scores</th>\n",
       "    </tr>\n",
       "  </thead>\n",
       "  <tbody>\n",
       "    <tr>\n",
       "      <th>0</th>\n",
       "      <td>10</td>\n",
       "      <td>10</td>\n",
       "      <td>0.255</td>\n",
       "    </tr>\n",
       "    <tr>\n",
       "      <th>1</th>\n",
       "      <td>10</td>\n",
       "      <td>15</td>\n",
       "      <td>0.246</td>\n",
       "    </tr>\n",
       "    <tr>\n",
       "      <th>2</th>\n",
       "      <td>10</td>\n",
       "      <td>20</td>\n",
       "      <td>0.246</td>\n",
       "    </tr>\n",
       "    <tr>\n",
       "      <th>3</th>\n",
       "      <td>10</td>\n",
       "      <td>25</td>\n",
       "      <td>0.247</td>\n",
       "    </tr>\n",
       "    <tr>\n",
       "      <th>4</th>\n",
       "      <td>20</td>\n",
       "      <td>10</td>\n",
       "      <td>0.252</td>\n",
       "    </tr>\n",
       "  </tbody>\n",
       "</table>\n",
       "</div>"
      ],
      "text/plain": [
       "   n_estimators  max_depth  rmse_scores\n",
       "0            10         10        0.255\n",
       "1            10         15        0.246\n",
       "2            10         20        0.246\n",
       "3            10         25        0.247\n",
       "4            20         10        0.252"
      ]
     },
     "execution_count": 19,
     "metadata": {},
     "output_type": "execute_result"
    }
   ],
   "source": [
    "cols = ['n_estimators', 'max_depth', 'rmse_scores']\n",
    "df_scores = pd.DataFrame(scores, columns = cols)\n",
    "df_scores.head()"
   ]
  },
  {
   "cell_type": "code",
   "execution_count": 20,
   "id": "154faa9c",
   "metadata": {},
   "outputs": [
    {
     "data": {
      "text/plain": [
       "<matplotlib.legend.Legend at 0x7fd6dab141f0>"
      ]
     },
     "execution_count": 20,
     "metadata": {},
     "output_type": "execute_result"
    },
    {
     "data": {
      "image/png": "[encoded data removed]",
      "text/plain": [
       "<Figure size 640x480 with 1 Axes>"
      ]
     },
     "metadata": {},
     "output_type": "display_data"
    }
   ],
   "source": [
    "for md in [10, 15, 20, 25]:\n",
    "    df_subset = df_scores[df_scores.max_depth==md]\n",
    "    plt.plot(df_subset.n_estimators, df_subset.rmse_scores, label=f\"max_depth={md}\")\n",
    "    \n",
    "plt.legend()\n",
    "\n"
   ]
  },
  {
   "cell_type": "code",
   "execution_count": null,
   "id": "86567638",
   "metadata": {},
   "outputs": [],
   "source": []
  },
  {
   "cell_type": "markdown",
   "id": "ec3fc4d5",
   "metadata": {},
   "source": [
    "### Question 5\n",
    "We can extract feature importance information from tree-based models.\n",
    "\n",
    "At each step of the decision tree learning algorith, it finds the best split. When doint it, we can calculate \"gain\" - the reduction in impurity before and after the split. This gain is quite useful in understanding what are the imporatant features for tree-based models.\n",
    "\n",
    "In Scikit-Learn, tree-based models contain this information in the feature_importances_ field.\n",
    "\n",
    "For this homework question, we'll find the most important feature:\n",
    "\n",
    "Train the model with these parametes:\n",
    "```\n",
    "n_estimators=10,\n",
    "max_depth=20,\n",
    "random_state=1,\n",
    "n_jobs=-1 (optional)\n",
    "```\n",
    "\n",
    "Get the feature importance information from this model\n",
    "\n",
    "What's the most important feature?\n",
    "\n",
    "* total_rooms\n",
    "* median_income\n",
    "* total_bedrooms\n",
    "* longitude"
   ]
  },
  {
   "cell_type": "code",
   "execution_count": 21,
   "id": "0c58eac7",
   "metadata": {},
   "outputs": [
    {
     "data": {
      "text/html": [
       "<div>\n",
       "<style scoped>\n",
       "    .dataframe tbody tr th:only-of-type {\n",
       "        vertical-align: middle;\n",
       "    }\n",
       "\n",
       "    .dataframe tbody tr th {\n",
       "        vertical-align: top;\n",
       "    }\n",
       "\n",
       "    .dataframe thead th {\n",
       "        text-align: right;\n",
       "    }\n",
       "</style>\n",
       "<table border=\"1\" class=\"dataframe\">\n",
       "  <thead>\n",
       "    <tr style=\"text-align: right;\">\n",
       "      <th></th>\n",
       "      <th>Features</th>\n",
       "      <th>Importance</th>\n",
       "    </tr>\n",
       "  </thead>\n",
       "  <tbody>\n",
       "    <tr>\n",
       "      <th>4</th>\n",
       "      <td>median_income</td>\n",
       "      <td>0.363870</td>\n",
       "    </tr>\n",
       "    <tr>\n",
       "      <th>5</th>\n",
       "      <td>ocean_proximity=INLAND</td>\n",
       "      <td>0.310901</td>\n",
       "    </tr>\n",
       "    <tr>\n",
       "      <th>2</th>\n",
       "      <td>latitude</td>\n",
       "      <td>0.101012</td>\n",
       "    </tr>\n",
       "    <tr>\n",
       "      <th>3</th>\n",
       "      <td>longitude</td>\n",
       "      <td>0.096486</td>\n",
       "    </tr>\n",
       "    <tr>\n",
       "      <th>1</th>\n",
       "      <td>housing_median_age</td>\n",
       "      <td>0.033243</td>\n",
       "    </tr>\n",
       "    <tr>\n",
       "      <th>10</th>\n",
       "      <td>population</td>\n",
       "      <td>0.030148</td>\n",
       "    </tr>\n",
       "    <tr>\n",
       "      <th>12</th>\n",
       "      <td>total_rooms</td>\n",
       "      <td>0.020847</td>\n",
       "    </tr>\n",
       "    <tr>\n",
       "      <th>11</th>\n",
       "      <td>total_bedrooms</td>\n",
       "      <td>0.018909</td>\n",
       "    </tr>\n",
       "    <tr>\n",
       "      <th>0</th>\n",
       "      <td>households</td>\n",
       "      <td>0.016585</td>\n",
       "    </tr>\n",
       "    <tr>\n",
       "      <th>8</th>\n",
       "      <td>ocean_proximity=NEAR_OCEAN</td>\n",
       "      <td>0.005276</td>\n",
       "    </tr>\n",
       "    <tr>\n",
       "      <th>9</th>\n",
       "      <td>ocean_proximity=_1H_OCEAN</td>\n",
       "      <td>0.001910</td>\n",
       "    </tr>\n",
       "    <tr>\n",
       "      <th>7</th>\n",
       "      <td>ocean_proximity=NEAR_BAY</td>\n",
       "      <td>0.000456</td>\n",
       "    </tr>\n",
       "    <tr>\n",
       "      <th>6</th>\n",
       "      <td>ocean_proximity=ISLAND</td>\n",
       "      <td>0.000357</td>\n",
       "    </tr>\n",
       "  </tbody>\n",
       "</table>\n",
       "</div>"
      ],
      "text/plain": [
       "                      Features  Importance\n",
       "4                median_income    0.363870\n",
       "5       ocean_proximity=INLAND    0.310901\n",
       "2                     latitude    0.101012\n",
       "3                    longitude    0.096486\n",
       "1           housing_median_age    0.033243\n",
       "10                  population    0.030148\n",
       "12                 total_rooms    0.020847\n",
       "11              total_bedrooms    0.018909\n",
       "0                   households    0.016585\n",
       "8   ocean_proximity=NEAR_OCEAN    0.005276\n",
       "9    ocean_proximity=_1H_OCEAN    0.001910\n",
       "7     ocean_proximity=NEAR_BAY    0.000456\n",
       "6       ocean_proximity=ISLAND    0.000357"
      ]
     },
     "execution_count": 21,
     "metadata": {},
     "output_type": "execute_result"
    }
   ],
   "source": [
    "#ANSWER: median_income\n",
    "\n",
    "rf = RandomForestRegressor(n_estimators=10,\n",
    "                            max_depth=20,\n",
    "                            random_state=1,\n",
    "                            n_jobs=-1\n",
    "                            )\n",
    "rf.fit(X_train, y_train)\n",
    "\n",
    "df_feature_importance = pd.DataFrame({'Features':dv.get_feature_names_out(), 'Importance': rf.feature_importances_})\n",
    "df_feature_importance.sort_values(by='Importance', ascending=False)\n"
   ]
  },
  {
   "cell_type": "code",
   "execution_count": null,
   "id": "547eb23e",
   "metadata": {},
   "outputs": [],
   "source": []
  },
  {
   "cell_type": "markdown",
   "id": "fc59a3d1",
   "metadata": {},
   "source": [
    "### Question 6\n",
    "Now let's train an XGBoost model! For this question, we'll tune the eta parameter:\n",
    "\n",
    "Install XGBoost\n",
    "\n",
    "Create DMatrix for train and validation\n",
    "\n",
    "Create a watchlist\n",
    "\n",
    "Train a model with these parameters for 100 rounds:\n",
    "```\n",
    "xgb_params = {\n",
    "    'eta': 0.3, \n",
    "    'max_depth': 6,\n",
    "    'min_child_weight': 1,\n",
    "    \n",
    "    'objective': 'reg:squarederror',\n",
    "    'nthread': 8,\n",
    "    \n",
    "    'seed': 1,\n",
    "    'verbosity': 1,\n",
    "}\n",
    "```\n",
    "Now change eta first to 0.1 and then to 0.01\n",
    "\n",
    "#### Which eta leads to the best RMSE score on the validation dataset?\n",
    "\n",
    "* 0.3\n",
    "* 0.1\n",
    "* Both gives same"
   ]
  },
  {
   "cell_type": "code",
   "execution_count": 40,
   "id": "8a8e2b4e",
   "metadata": {},
   "outputs": [
    {
     "name": "stdout",
     "output_type": "stream",
     "text": [
      "[0]\ttrain-rmse:11.48634\tval-rmse:11.49225\n",
      "[10]\ttrain-rmse:10.38969\tval-rmse:10.39532\n",
      "[20]\ttrain-rmse:9.39796\tval-rmse:9.40346\n",
      "[30]\ttrain-rmse:8.50110\tval-rmse:8.50645\n",
      "[40]\ttrain-rmse:7.69008\tval-rmse:7.69524\n",
      "[50]\ttrain-rmse:6.95672\tval-rmse:6.96171\n",
      "[60]\ttrain-rmse:6.29360\tval-rmse:6.29841\n",
      "[70]\ttrain-rmse:5.69400\tval-rmse:5.69854\n",
      "[80]\ttrain-rmse:5.15187\tval-rmse:5.15621\n",
      "[90]\ttrain-rmse:4.66171\tval-rmse:4.66589\n",
      "[99]\ttrain-rmse:4.26092\tval-rmse:4.26496\n",
      "eta: 0.01 --> rmse_score: 4.264961152048471\n",
      "#########################################\n",
      "[0]\ttrain-rmse:10.44372\tval-rmse:10.44938\n",
      "[10]\ttrain-rmse:3.65741\tval-rmse:3.66135\n",
      "[20]\ttrain-rmse:1.30499\tval-rmse:1.31054\n",
      "[30]\ttrain-rmse:0.51144\tval-rmse:0.52189\n",
      "[40]\ttrain-rmse:0.27984\tval-rmse:0.30053\n",
      "[50]\ttrain-rmse:0.22614\tval-rmse:0.25334\n",
      "[60]\ttrain-rmse:0.21035\tval-rmse:0.24189\n",
      "[70]\ttrain-rmse:0.20116\tval-rmse:0.23684\n",
      "[80]\ttrain-rmse:0.19384\tval-rmse:0.23398\n",
      "[90]\ttrain-rmse:0.18794\tval-rmse:0.23206\n",
      "[99]\ttrain-rmse:0.18329\tval-rmse:0.23054\n",
      "eta: 0.1 --> rmse_score: 0.2305416021993131\n",
      "#########################################\n",
      "[0]\ttrain-rmse:8.12733\tval-rmse:8.13245\n",
      "[10]\ttrain-rmse:0.34481\tval-rmse:0.35782\n",
      "[20]\ttrain-rmse:0.21580\tval-rmse:0.24624\n",
      "[30]\ttrain-rmse:0.19440\tval-rmse:0.23741\n",
      "[40]\ttrain-rmse:0.17983\tval-rmse:0.23419\n",
      "[50]\ttrain-rmse:0.16934\tval-rmse:0.23097\n",
      "[60]\ttrain-rmse:0.16177\tval-rmse:0.22950\n",
      "[70]\ttrain-rmse:0.15323\tval-rmse:0.22787\n",
      "[80]\ttrain-rmse:0.14564\tval-rmse:0.22611\n",
      "[90]\ttrain-rmse:0.13892\tval-rmse:0.22628\n",
      "[99]\ttrain-rmse:0.13299\tval-rmse:0.22610\n",
      "eta: 0.3 --> rmse_score: 0.22609930491164068\n",
      "#########################################\n"
     ]
    }
   ],
   "source": [
    "# ANSWER: 0.3\n",
    "\n",
    "import xgboost as xgb\n",
    "features = dv.get_feature_names_out()\n",
    "dtrain = xgb.DMatrix(X_train, label=y_train, feature_names=features)\n",
    "dval = xgb.DMatrix(X_val, label=y_val, feature_names=features)\n",
    "\n",
    "watchlist = [(dtrain, 'train'), (dval, 'val')]\n",
    "\n",
    "\n",
    "for eta in [0.01, 0.1, 0.3]:\n",
    "    xgb_params = {\n",
    "        'eta': eta, \n",
    "        'max_depth': 6,\n",
    "        'min_child_weight': 1,\n",
    "\n",
    "        'objective': 'reg:squarederror',\n",
    "        'nthread': 8,\n",
    "\n",
    "        'seed': 1,\n",
    "        'verbosity': 1,\n",
    "    }\n",
    "\n",
    "    xgb_model = xgb.train(params=xgb_params, dtrain=dtrain, num_boost_round=100, evals=watchlist, verbose_eval=10)\n",
    "\n",
    "    preds = xgb_model.predict(dval)\n",
    "    rmse_score = mean_squared_error(y_val, preds, squared=False)\n",
    "    print(f'eta: {eta} --> rmse_score: {rmse_score}')\n",
    "    print('#########################################')"
   ]
  },
  {
   "cell_type": "code",
   "execution_count": null,
   "id": "6cf09fb7",
   "metadata": {},
   "outputs": [],
   "source": []
  }
 ],
 "metadata": {
  "kernelspec": {
   "display_name": "Python 3 (ipykernel)",
   "language": "python",
   "name": "python3"
  },
  "language_info": {
   "codemirror_mode": {
    "name": "ipython",
    "version": 3
   },
   "file_extension": ".py",
   "mimetype": "text/x-python",
   "name": "python",
   "nbconvert_exporter": "python",
   "pygments_lexer": "ipython3",
   "version": "3.9.13"
  }
 },
 "nbformat": 4,
 "nbformat_minor": 5
}
