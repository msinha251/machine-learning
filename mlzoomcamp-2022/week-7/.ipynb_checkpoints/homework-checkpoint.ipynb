{
 "cells": [
  {
   "cell_type": "markdown",
   "id": "52afc1f6",
   "metadata": {},
   "source": [
    "## Question 1\n",
    "\n",
    "Install BentoML\n",
    "\n",
    "### What's the version of BentoML you installed?\n",
    "\n",
    "Use --version to find out"
   ]
  },
  {
   "cell_type": "code",
   "execution_count": null,
   "id": "b0ee0723",
   "metadata": {},
   "outputs": [],
   "source": [
    "#Answer : 1.0.7"
   ]
  },
  {
   "cell_type": "code",
   "execution_count": null,
   "id": "e741ec88",
   "metadata": {},
   "outputs": [],
   "source": []
  },
  {
   "cell_type": "markdown",
   "id": "abb7c2d7",
   "metadata": {},
   "source": [
    "## Question 2\n",
    "Run the notebook which contains random forest model from module 6 i.e previous module and save the model with BentoML. To make it easier for you we have prepared this notebook.\n",
    "\n",
    "### How big approximately is the saved BentoML model? Size can slightly vary depending on your local development environment. Choose the size closest to your model.\n",
    "\n",
    "* 924kb\n",
    "* 724kb\n",
    "* 114kb\n",
    "* 8kb"
   ]
  },
  {
   "cell_type": "code",
   "execution_count": 3,
   "id": "08a54ac9",
   "metadata": {},
   "outputs": [
    {
     "name": "stdout",
     "output_type": "stream",
     "text": [
      "  % Total    % Received % Xferd  Average Speed   Time    Time     Time  Current\n",
      "                                 Dload  Upload   Total   Spent    Left  Speed\n",
      "100  178k  100  178k    0     0  1047k      0 --:--:-- --:--:-- --:--:-- 1054k\n"
     ]
    }
   ],
   "source": [
    "# download data:\n",
    "!curl --create-dirs -o './data/CreditScoring.csv' 'https://raw.githubusercontent.com/alexeygrigorev/mlbookcamp-code/master/chapter-06-trees/CreditScoring.csv'\n"
   ]
  },
  {
   "cell_type": "code",
   "execution_count": 7,
   "id": "2a120edf",
   "metadata": {},
   "outputs": [],
   "source": [
    "#Build \n",
    "import pandas as pd\n",
    "import numpy as np\n",
    "\n",
    "from sklearn.model_selection import train_test_split\n",
    "from sklearn.feature_extraction import DictVectorizer\n",
    "\n",
    "from sklearn.ensemble import RandomForestClassifier\n",
    "\n",
    "import xgboost as xgb\n",
    "\n",
    "### Data preparation\n",
    "\n",
    "data = './data/CreditScoring.csv'\n",
    "df = pd.read_csv(data)\n",
    "\n",
    "df.columns = df.columns.str.lower()\n",
    "\n",
    "status_values = {\n",
    "    1: 'ok',\n",
    "    2: 'default',\n",
    "    0: 'unk'\n",
    "}\n",
    "\n",
    "df.status = df.status.map(status_values)\n",
    "\n",
    "home_values = {\n",
    "    1: 'rent',\n",
    "    2: 'owner',\n",
    "    3: 'private',\n",
    "    4: 'ignore',\n",
    "    5: 'parents',\n",
    "    6: 'other',\n",
    "    0: 'unk'\n",
    "}\n",
    "\n",
    "df.home = df.home.map(home_values)\n",
    "\n",
    "marital_values = {\n",
    "    1: 'single',\n",
    "    2: 'married',\n",
    "    3: 'widow',\n",
    "    4: 'separated',\n",
    "    5: 'divorced',\n",
    "    0: 'unk'\n",
    "}\n",
    "\n",
    "df.marital = df.marital.map(marital_values)\n",
    "\n",
    "records_values = {\n",
    "    1: 'no',\n",
    "    2: 'yes',\n",
    "    0: 'unk'\n",
    "}\n",
    "\n",
    "df.records = df.records.map(records_values)\n",
    "\n",
    "job_values = {\n",
    "    1: 'fixed',\n",
    "    2: 'partime',\n",
    "    3: 'freelance',\n",
    "    4: 'others',\n",
    "    0: 'unk'\n",
    "}\n",
    "\n",
    "df.job = df.job.map(job_values)\n",
    "\n",
    "for c in ['income', 'assets', 'debt']:\n",
    "    df[c] = df[c].replace(to_replace=99999999, value=np.nan)\n",
    "\n",
    "df = df[df.status != 'unk'].reset_index(drop=True)\n",
    "\n",
    "df_train, df_test = train_test_split(df, test_size=0.2, random_state=11)\n",
    "\n",
    "df_train = df_train.reset_index(drop=True)\n",
    "df_test = df_test.reset_index(drop=True)\n",
    "\n",
    "y_train = (df_train.status == 'default').astype('int').values\n",
    "y_test = (df_test.status == 'default').astype('int').values\n",
    "\n",
    "del df_train['status']\n",
    "del df_test['status']\n",
    "\n",
    "dv = DictVectorizer(sparse=False)\n",
    "\n",
    "train_dicts = df_train.fillna(0).to_dict(orient='records')\n",
    "X_train = dv.fit_transform(train_dicts)\n",
    "\n",
    "test_dicts = df_test.fillna(0).to_dict(orient='records')\n",
    "X_test = dv.transform(test_dicts)\n",
    "\n",
    "### Random forest\n",
    "\n",
    "rf = RandomForestClassifier(n_estimators=200,\n",
    "                            max_depth=10,\n",
    "                            min_samples_leaf=3,\n",
    "                            random_state=1)\n",
    "rf.fit(X_train, y_train)\n",
    "\n",
    "### XGBoost\n",
    "\n",
    "'''\n",
    "Note:\n",
    "\n",
    "We removed feature names\n",
    "\n",
    "It was \n",
    "\n",
    "```python\n",
    "features = dv.get_feature_names_out()\n",
    "dtrain = xgb.DMatrix(X_train, label=y_train, feature_names=features)\n",
    "```\n",
    "\n",
    "Now it's\n",
    "\n",
    "```python\n",
    "dtrain = xgb.DMatrix(X_train, label=y_train)\n",
    "```\n",
    "'''\n",
    "\n",
    "dtrain = xgb.DMatrix(X_train, label=y_train)\n",
    "\n",
    "xgb_params = {\n",
    "    'eta': 0.1, \n",
    "    'max_depth': 3,\n",
    "    'min_child_weight': 1,\n",
    "\n",
    "    'objective': 'binary:logistic',\n",
    "    'eval_metric': 'auc',\n",
    "\n",
    "    'nthread': 8,\n",
    "    'seed': 1,\n",
    "    'verbosity': 1,\n",
    "}\n",
    "\n",
    "model = xgb.train(xgb_params, dtrain, num_boost_round=175)"
   ]
  },
  {
   "cell_type": "code",
   "execution_count": 10,
   "id": "7836a846",
   "metadata": {},
   "outputs": [
    {
     "data": {
      "text/plain": [
       "Model(tag=\"credit_risk_score:573xgwsqikftuepw\", path=\"/home/ubuntu/bentoml/models/credit_risk_score/573xgwsqikftuepw/\")"
      ]
     },
     "execution_count": 10,
     "metadata": {},
     "output_type": "execute_result"
    }
   ],
   "source": [
    "import bentoml\n",
    "\n",
    "bentoml.xgboost.save_model(\n",
    "                            'credit_risk_score', \n",
    "                            model=model, \n",
    "                            custom_objects={\n",
    "                                \"dictVectorizer\": dv\n",
    "                            })"
   ]
  },
  {
   "cell_type": "code",
   "execution_count": null,
   "id": "507bd622",
   "metadata": {},
   "outputs": [],
   "source": [
    "# Answer is 197 KiB (Closest option: 114kb)\n",
    "\n",
    "# USED BELOW COMMAND:\n",
    "# !bentoml models list"
   ]
  },
  {
   "cell_type": "code",
   "execution_count": null,
   "id": "6aa3f2f4",
   "metadata": {},
   "outputs": [],
   "source": []
  },
  {
   "cell_type": "markdown",
   "id": "a0c2ca4c",
   "metadata": {},
   "source": [
    "```\n",
    "Another email from your manager\n",
    "Great job recruit! Looks like I won't be having to go back to the procurement team. Thanks for the information.\n",
    "\n",
    "However, I just got word from one of the teams that's using one of our ML services and they're saying our service is \"broken\" and their trying to blame our model. I looked at the data their sending and it's completely bogus. I don't want them to send bad data to us and blame us for our models. Could you write a pydantic schema for the data that they should be sending? That way next time it will tell them it's their data that's bad and not our model.\n",
    "\n",
    "Thanks,\n",
    "\n",
    "Mr McManager\n",
    "```\n",
    "\n",
    "## Question 3\n",
    "Say you have the following data that you're sending to your service:\n",
    "```\n",
    "{\n",
    "  \"name\": \"Tim\",\n",
    "  \"age\": 37,\n",
    "  \"country\": \"US\",\n",
    "  \"rating\": 3.14\n",
    "}\n",
    "```\n",
    "### What would the pydantic class look like? You can name the class UserProfile."
   ]
  },
  {
   "cell_type": "code",
   "execution_count": 2,
   "id": "f802c965",
   "metadata": {},
   "outputs": [],
   "source": [
    "# Answer is below:\n",
    "from pydantic import BaseModel\n",
    "\n",
    "class UserProfile(BaseModel):\n",
    "    name: str\n",
    "    age: int\n",
    "    country: str\n",
    "    rating: float"
   ]
  },
  {
   "cell_type": "code",
   "execution_count": null,
   "id": "a5ac31a5",
   "metadata": {},
   "outputs": [],
   "source": []
  },
  {
   "cell_type": "markdown",
   "id": "c74e453a",
   "metadata": {},
   "source": [
    "```\n",
    "Email from your CEO\n",
    "Good morning! I hear you're the one to go to if I need something done well! We've got a new model that a big client needs deployed ASAP. I need you to build a service with it and test it against the old model and make sure that it performs better, otherwise we're going to lose this client. All our hopes are with you!\n",
    "\n",
    "Thanks,\n",
    "\n",
    "CEO of Acme Corp\n",
    "```\n",
    "\n",
    "\n",
    "## Question 4\n",
    "We've prepared a model for you that you can import using:\n",
    "\n",
    "```\n",
    "curl -O https://s3.us-west-2.amazonaws.com/bentoml.com/mlzoomcamp/coolmodel.bentomodel\n",
    "bentoml models import coolmodel.bentomodel\n",
    "```\n",
    "\n",
    "### What version of scikit-learn was this model trained with?\n",
    "\n",
    "* 1.1.1\n",
    "* 1.1.2\n",
    "* 1.1.3\n",
    "* 1.1.4\n",
    "* 1.1.5"
   ]
  },
  {
   "cell_type": "code",
   "execution_count": 3,
   "id": "b5116cca",
   "metadata": {},
   "outputs": [
    {
     "name": "stdout",
     "output_type": "stream",
     "text": [
      "  % Total    % Received % Xferd  Average Speed   Time    Time     Time  Current\n",
      "                                 Dload  Upload   Total   Spent    Left  Speed\n",
      "100  1724  100  1724    0     0   4414      0 --:--:-- --:--:-- --:--:--  4409\n"
     ]
    }
   ],
   "source": [
    "# Answer : 1.1.1 \n",
    "!curl -O https://s3.us-west-2.amazonaws.com/bentoml.com/mlzoomcamp/coolmodel.bentomodel\n"
   ]
  },
  {
   "cell_type": "code",
   "execution_count": 4,
   "id": "61906fce",
   "metadata": {},
   "outputs": [
    {
     "name": "stdout",
     "output_type": "stream",
     "text": [
      "Model(tag=\"mlzoomcamp_homework:qtzdz3slg6mwwdu5\") imported\r\n"
     ]
    }
   ],
   "source": [
    "!bentoml models import coolmodel.bentomodel"
   ]
  },
  {
   "cell_type": "code",
   "execution_count": 5,
   "id": "19e6f780",
   "metadata": {},
   "outputs": [
    {
     "name": "stdout",
     "output_type": "stream",
     "text": [
      "\u001b[38;2;249;38;114;48;2;39;40;34mname\u001b[0m\u001b[38;2;248;248;242;48;2;39;40;34m:\u001b[0m\u001b[38;2;248;248;242;48;2;39;40;34m \u001b[0m\u001b[48;2;39;40;34mmlzoomcamp_homework\u001b[0m\u001b[48;2;39;40;34m                                                       \u001b[0m\r\n",
      "\u001b[38;2;249;38;114;48;2;39;40;34mversion\u001b[0m\u001b[38;2;248;248;242;48;2;39;40;34m:\u001b[0m\u001b[38;2;248;248;242;48;2;39;40;34m \u001b[0m\u001b[48;2;39;40;34mqtzdz3slg6mwwdu5\u001b[0m\u001b[48;2;39;40;34m                                                       \u001b[0m\r\n",
      "\u001b[38;2;249;38;114;48;2;39;40;34mmodule\u001b[0m\u001b[38;2;248;248;242;48;2;39;40;34m:\u001b[0m\u001b[38;2;248;248;242;48;2;39;40;34m \u001b[0m\u001b[48;2;39;40;34mbentoml.sklearn\u001b[0m\u001b[48;2;39;40;34m                                                         \u001b[0m\r\n",
      "\u001b[38;2;249;38;114;48;2;39;40;34mlabels\u001b[0m\u001b[38;2;248;248;242;48;2;39;40;34m:\u001b[0m\u001b[38;2;248;248;242;48;2;39;40;34m \u001b[0m\u001b[48;2;39;40;34m{\u001b[0m\u001b[48;2;39;40;34m}\u001b[0m\u001b[48;2;39;40;34m                                                                      \u001b[0m\r\n",
      "\u001b[38;2;249;38;114;48;2;39;40;34moptions\u001b[0m\u001b[38;2;248;248;242;48;2;39;40;34m:\u001b[0m\u001b[38;2;248;248;242;48;2;39;40;34m \u001b[0m\u001b[48;2;39;40;34m{\u001b[0m\u001b[48;2;39;40;34m}\u001b[0m\u001b[48;2;39;40;34m                                                                     \u001b[0m\r\n",
      "\u001b[38;2;249;38;114;48;2;39;40;34mmetadata\u001b[0m\u001b[38;2;248;248;242;48;2;39;40;34m:\u001b[0m\u001b[38;2;248;248;242;48;2;39;40;34m \u001b[0m\u001b[48;2;39;40;34m{\u001b[0m\u001b[48;2;39;40;34m}\u001b[0m\u001b[48;2;39;40;34m                                                                    \u001b[0m\r\n",
      "\u001b[38;2;249;38;114;48;2;39;40;34mcontext\u001b[0m\u001b[38;2;248;248;242;48;2;39;40;34m:\u001b[0m\u001b[48;2;39;40;34m                                                                        \u001b[0m\r\n",
      "\u001b[38;2;248;248;242;48;2;39;40;34m  \u001b[0m\u001b[38;2;249;38;114;48;2;39;40;34mframework_name\u001b[0m\u001b[38;2;248;248;242;48;2;39;40;34m:\u001b[0m\u001b[38;2;248;248;242;48;2;39;40;34m \u001b[0m\u001b[48;2;39;40;34msklearn\u001b[0m\u001b[48;2;39;40;34m                                                       \u001b[0m\r\n",
      "\u001b[38;2;248;248;242;48;2;39;40;34m  \u001b[0m\u001b[38;2;249;38;114;48;2;39;40;34mframework_versions\u001b[0m\u001b[38;2;248;248;242;48;2;39;40;34m:\u001b[0m\u001b[48;2;39;40;34m                                                           \u001b[0m\r\n",
      "\u001b[38;2;248;248;242;48;2;39;40;34m    \u001b[0m\u001b[38;2;249;38;114;48;2;39;40;34mscikit-learn\u001b[0m\u001b[38;2;248;248;242;48;2;39;40;34m:\u001b[0m\u001b[38;2;248;248;242;48;2;39;40;34m \u001b[0m\u001b[48;2;39;40;34m1.1.1\u001b[0m\u001b[48;2;39;40;34m                                                         \u001b[0m\r\n",
      "\u001b[38;2;248;248;242;48;2;39;40;34m  \u001b[0m\u001b[38;2;249;38;114;48;2;39;40;34mbentoml_version\u001b[0m\u001b[38;2;248;248;242;48;2;39;40;34m:\u001b[0m\u001b[38;2;248;248;242;48;2;39;40;34m \u001b[0m\u001b[48;2;39;40;34m1.0.7\u001b[0m\u001b[48;2;39;40;34m                                                        \u001b[0m\r\n",
      "\u001b[38;2;248;248;242;48;2;39;40;34m  \u001b[0m\u001b[38;2;249;38;114;48;2;39;40;34mpython_version\u001b[0m\u001b[38;2;248;248;242;48;2;39;40;34m:\u001b[0m\u001b[38;2;248;248;242;48;2;39;40;34m \u001b[0m\u001b[48;2;39;40;34m3.9.12\u001b[0m\u001b[48;2;39;40;34m                                                        \u001b[0m\r\n",
      "\u001b[38;2;249;38;114;48;2;39;40;34msignatures\u001b[0m\u001b[38;2;248;248;242;48;2;39;40;34m:\u001b[0m\u001b[48;2;39;40;34m                                                                     \u001b[0m\r\n",
      "\u001b[38;2;248;248;242;48;2;39;40;34m  \u001b[0m\u001b[38;2;249;38;114;48;2;39;40;34mpredict\u001b[0m\u001b[38;2;248;248;242;48;2;39;40;34m:\u001b[0m\u001b[48;2;39;40;34m                                                                      \u001b[0m\r\n",
      "\u001b[38;2;248;248;242;48;2;39;40;34m    \u001b[0m\u001b[38;2;249;38;114;48;2;39;40;34mbatchable\u001b[0m\u001b[38;2;248;248;242;48;2;39;40;34m:\u001b[0m\u001b[38;2;248;248;242;48;2;39;40;34m \u001b[0m\u001b[48;2;39;40;34mfalse\u001b[0m\u001b[48;2;39;40;34m                                                            \u001b[0m\r\n",
      "\u001b[38;2;249;38;114;48;2;39;40;34mapi_version\u001b[0m\u001b[38;2;248;248;242;48;2;39;40;34m:\u001b[0m\u001b[38;2;248;248;242;48;2;39;40;34m \u001b[0m\u001b[48;2;39;40;34mv1\u001b[0m\u001b[48;2;39;40;34m                                                                 \u001b[0m\r\n",
      "\u001b[38;2;249;38;114;48;2;39;40;34mcreation_time\u001b[0m\u001b[38;2;248;248;242;48;2;39;40;34m:\u001b[0m\u001b[38;2;248;248;242;48;2;39;40;34m \u001b[0m\u001b[38;2;230;219;116;48;2;39;40;34m'\u001b[0m\u001b[38;2;230;219;116;48;2;39;40;34m2022-10-13T20:42:14.411084+00:00\u001b[0m\u001b[38;2;230;219;116;48;2;39;40;34m'\u001b[0m\u001b[48;2;39;40;34m                               \u001b[0m\r\n",
      "\u001b[48;2;39;40;34m                                                                                \u001b[0m\r\n"
     ]
    }
   ],
   "source": [
    "!bentoml models get mlzoomcamp_homework:qtzdz3slg6mwwdu5"
   ]
  },
  {
   "cell_type": "code",
   "execution_count": null,
   "id": "b4d41043",
   "metadata": {},
   "outputs": [],
   "source": []
  },
  {
   "cell_type": "markdown",
   "id": "74e5c216",
   "metadata": {},
   "source": [
    "## Question 5\n",
    "Create a bento out of this scikit-learn model. This will require installing scikit-learn like this:\n",
    "\n",
    "`pip install scikit-learn`\n",
    "\n",
    "Hint: The output type for this endpoint should be NumpyNdarray()\n",
    "\n",
    "Send this array to the bento:\n",
    "\n",
    "[[6.4,3.5,4.5,1.2]]\n",
    "\n",
    "### You can use curl or the Swagger UI. What value does it return?\n",
    "\n",
    "* 0\n",
    "* 1\n",
    "* 2\n",
    "* 3"
   ]
  },
  {
   "cell_type": "code",
   "execution_count": 1,
   "id": "3e0e10c4",
   "metadata": {},
   "outputs": [],
   "source": [
    "# Asnwer : 1"
   ]
  },
  {
   "cell_type": "markdown",
   "id": "2c50cca5",
   "metadata": {},
   "source": [
    "*created service.py with below content:*\n",
    "\n",
    "```\n",
    "import bentoml\n",
    "from bentoml.io import JSON\n",
    "\n",
    "model_ref = bentoml.sklearn.get(\"mlzoomcamp_homework:qtzdz3slg6mwwdu5\")\n",
    "\n",
    "model_runner = model_ref.to_runner()\n",
    "\n",
    "svc = bentoml.Service('mlzoomcamp_homework', runners=[model_runner])\n",
    "\n",
    "@svc.api(input=JSON(), output=JSON())\n",
    "def classify(application_data):\n",
    "    prediction = model_runner.predict.run(application_data)\n",
    "    return { \"prediction\": prediction }\n",
    "```\n",
    "\n",
    "*And then ran below command*\n",
    "\n",
    "`bentoml serve service.py:svc`"
   ]
  },
  {
   "cell_type": "code",
   "execution_count": null,
   "id": "be93f16c",
   "metadata": {},
   "outputs": [],
   "source": []
  },
  {
   "cell_type": "markdown",
   "id": "7d7f72e1",
   "metadata": {},
   "source": [
    "## Question 6\n",
    "Ensure to serve your bento with --production for this question\n",
    "\n",
    "Install locust using:\n",
    "\n",
    "`pip install locust`\n",
    "\n",
    "Use the following locust file: locustfile.py\n",
    "\n",
    "Ensure that it is pointed at your bento's endpoint (In case you didn't name your endpoint \"classify\")\n",
    "\n",
    "\n",
    "\n",
    "Configure 100 users with ramp time of 10 users per second. Click \"Start Swarming\" and ensure that it is working.\n",
    "\n",
    "Now download a second model with this command:\n",
    "\n",
    "`curl -O https://s3.us-west-2.amazonaws.com/bentoml.com/mlzoomcamp/coolmodel2.bentomodel`\n",
    "Or \n",
    "you can download with this link as well: https://s3.us-west-2.amazonaws.com/bentoml.com/mlzoomcamp/coolmodel2.bentomodel\n",
    "\n",
    "Now import the model:\n",
    "\n",
    "`bentoml models import coolmodel2.bentomodel`\n",
    "\n",
    "### Update your bento's runner tag and test with both models. Which model allows more traffic (more throughput) as you ramp up the traffic?\n",
    "\n",
    "Hint 1: Remember to turn off and turn on your bento service between changing the model tag. Use Ctl-C to close the service in between trials.\n",
    "\n",
    "Hint 2: Increase the number of concurrent users to see which one has higher throughput\n",
    "\n",
    "Which model has better performance at higher volumes?\n",
    "\n",
    "* The first model\n",
    "* The second model"
   ]
  },
  {
   "cell_type": "code",
   "execution_count": 2,
   "id": "8f561bf6",
   "metadata": {},
   "outputs": [],
   "source": [
    "#Answer The second model"
   ]
  },
  {
   "cell_type": "code",
   "execution_count": null,
   "id": "9e78cd1b",
   "metadata": {},
   "outputs": [],
   "source": []
  },
  {
   "cell_type": "code",
   "execution_count": null,
   "id": "d95b218e",
   "metadata": {},
   "outputs": [],
   "source": []
  },
  {
   "cell_type": "code",
   "execution_count": null,
   "id": "77e8a066",
   "metadata": {},
   "outputs": [],
   "source": []
  },
  {
   "cell_type": "code",
   "execution_count": null,
   "id": "3503a0a1",
   "metadata": {},
   "outputs": [],
   "source": []
  },
  {
   "cell_type": "code",
   "execution_count": null,
   "id": "4a7a4320",
   "metadata": {},
   "outputs": [],
   "source": []
  },
  {
   "cell_type": "code",
   "execution_count": null,
   "id": "57238969",
   "metadata": {},
   "outputs": [],
   "source": []
  }
 ],
 "metadata": {
  "kernelspec": {
   "display_name": "Python 3 (ipykernel)",
   "language": "python",
   "name": "python3"
  },
  "language_info": {
   "codemirror_mode": {
    "name": "ipython",
    "version": 3
   },
   "file_extension": ".py",
   "mimetype": "text/x-python",
   "name": "python",
   "nbconvert_exporter": "python",
   "pygments_lexer": "ipython3",
   "version": "3.9.13"
  }
 },
 "nbformat": 4,
 "nbformat_minor": 5
}
