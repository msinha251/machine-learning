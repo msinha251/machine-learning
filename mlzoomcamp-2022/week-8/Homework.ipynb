{
 "cells": [
  {
   "cell_type": "code",
   "execution_count": 21,
   "id": "ef83ea47",
   "metadata": {},
   "outputs": [
    {
     "name": "stdout",
     "output_type": "stream",
     "text": [
      "Found 1594 images belonging to 2 classes.\n",
      "Found 394 images belonging to 2 classes.\n"
     ]
    }
   ],
   "source": [
    "# read data with imagedatagenerator:\n",
    "from tensorflow.keras.preprocessing.image import ImageDataGenerator\n",
    "import tensorflow as tf\n",
    "from tensorflow import keras\n",
    "from tensorflow.keras.preprocessing.image import load_img\n",
    "from tensorflow.keras.applications.xception import Xception, preprocess_input, decode_predictions\n",
    "\n",
    "import os\n",
    "import matplotlib.pyplot as plt\n",
    "\n",
    "# Paths for trains and test images:\n",
    "train = './data/dino-dragon/train/'\n",
    "test = './data/dino-dragon/test/'\n",
    "\n",
    "img_size = 150\n",
    "\n",
    "\n",
    "train_gen = ImageDataGenerator(preprocessing_function=preprocess_input)\n",
    "train_ds = train_gen.flow_from_directory(train, target_size=(img_size, img_size), batch_size=32)\n",
    "\n",
    "# validation data generation\n",
    "\n",
    "val_gen = ImageDataGenerator(preprocessing_function=preprocess_input)\n",
    "val_ds = val_gen.flow_from_directory(test, target_size=(img_size, img_size), batch_size=32, shuffle=False)\n"
   ]
  },
  {
   "cell_type": "code",
   "execution_count": 22,
   "id": "5f75334c",
   "metadata": {},
   "outputs": [
    {
     "data": {
      "text/plain": [
       "<KerasTensor: shape=(None, 150, 150, 3) dtype=float32 (created by layer 'input_9')>"
      ]
     },
     "execution_count": 22,
     "metadata": {},
     "output_type": "execute_result"
    }
   ],
   "source": [
    "keras.Input(shape=(img_size, img_size, 3))"
   ]
  },
  {
   "cell_type": "code",
   "execution_count": 11,
   "id": "645d7895",
   "metadata": {},
   "outputs": [
    {
     "name": "stdout",
     "output_type": "stream",
     "text": [
      "Epoch 1/10\n",
      "50/50 [==============================] - 13s 259ms/step - loss: 0.5703 - accuracy: 0.7045 - val_loss: 0.4530 - val_accuracy: 0.7944\n",
      "Epoch 2/10\n",
      "50/50 [==============================] - 12s 234ms/step - loss: 0.3916 - accuracy: 0.8350 - val_loss: 0.3893 - val_accuracy: 0.8452\n",
      "Epoch 3/10\n",
      "50/50 [==============================] - 12s 229ms/step - loss: 0.2997 - accuracy: 0.8827 - val_loss: 0.3804 - val_accuracy: 0.8452\n",
      "Epoch 4/10\n",
      "50/50 [==============================] - 12s 235ms/step - loss: 0.2586 - accuracy: 0.9065 - val_loss: 0.4085 - val_accuracy: 0.8198\n",
      "Epoch 5/10\n",
      "50/50 [==============================] - 11s 229ms/step - loss: 0.2033 - accuracy: 0.9316 - val_loss: 0.3521 - val_accuracy: 0.8579\n",
      "Epoch 6/10\n",
      "50/50 [==============================] - 12s 234ms/step - loss: 0.1723 - accuracy: 0.9460 - val_loss: 0.3391 - val_accuracy: 0.8604\n",
      "Epoch 7/10\n",
      "50/50 [==============================] - 11s 224ms/step - loss: 0.1312 - accuracy: 0.9655 - val_loss: 0.3360 - val_accuracy: 0.8706\n",
      "Epoch 8/10\n",
      "50/50 [==============================] - 12s 239ms/step - loss: 0.1178 - accuracy: 0.9630 - val_loss: 0.3543 - val_accuracy: 0.8731\n",
      "Epoch 9/10\n",
      "50/50 [==============================] - 12s 234ms/step - loss: 0.0999 - accuracy: 0.9799 - val_loss: 0.3697 - val_accuracy: 0.8731\n",
      "Epoch 10/10\n",
      "50/50 [==============================] - 11s 223ms/step - loss: 0.0802 - accuracy: 0.9856 - val_loss: 0.3518 - val_accuracy: 0.8756\n"
     ]
    }
   ],
   "source": [
    "def make_model(learning_rate):\n",
    "    ################# Arch ##################\n",
    "    inputs = keras.Input(shape=(img_size, img_size, 3))\n",
    "    \n",
    "    conv_1 = keras.layers.Conv2D(32, (3,3), activation='relu')(inputs)\n",
    "    pool_1 = keras.layers.MaxPool2D((2,2))(conv_1)\n",
    "    flat_1 = keras.layers.Flatten()(pool_1)\n",
    "    dense_1 = keras.layers.Dense(64, activation='relu')(flat_1)\n",
    "    \n",
    "    outputs = keras.layers.Dense(2, activation='sigmoid')(dense_1)    \n",
    "    model = keras.Model(inputs, outputs)\n",
    "    #########################################\n",
    "    \n",
    "    optimizer = keras.optimizers.SGD(lr=learning_rate, momentum=0.8)\n",
    "    \n",
    "    loss = keras.losses.BinaryCrossentropy(from_logits=False)\n",
    "    \n",
    "    model.compile(optimizer=optimizer, loss=loss, metrics=['accuracy'])\n",
    "    \n",
    "    return model\n",
    "\n",
    "learning_rate = 0.002\n",
    "epochs = 10\n",
    "\n",
    "checkpoint = keras.callbacks.ModelCheckpoint(\n",
    "            './models/homework_{epoch:02d}_{val_accuracy:.3f}.h5',\n",
    "            save_best_only=True,\n",
    "            monitor='val_accuracy',\n",
    "            mode='max')\n",
    "\n",
    "model = make_model(learning_rate)\n",
    "history = model.fit(train_ds, epochs=epochs, validation_data=val_ds, callbacks=[checkpoint])"
   ]
  },
  {
   "cell_type": "code",
   "execution_count": 14,
   "id": "3fb6fd6e",
   "metadata": {},
   "outputs": [
    {
     "data": {
      "text/plain": [
       "<matplotlib.legend.Legend at 0x7f92017ef8e0>"
      ]
     },
     "execution_count": 14,
     "metadata": {},
     "output_type": "execute_result"
    },
    {
     "data": {
      "image/png": "[encoded data removed]",
      "text/plain": [
       "<Figure size 640x480 with 1 Axes>"
      ]
     },
     "metadata": {},
     "output_type": "display_data"
    }
   ],
   "source": [
    "import numpy as np\n",
    "plt.plot(history.history['accuracy'], label='train')\n",
    "plt.plot(history.history['val_accuracy'], label='val')\n",
    "plt.xticks(np.arange(10))\n",
    "plt.legend()"
   ]
  },
  {
   "cell_type": "markdown",
   "id": "2ecc1d66",
   "metadata": {},
   "source": [
    "## Question 1\n",
    "Since we have a binary classification problem, what is the best loss function for us?\n",
    "\n",
    "* binary crossentropy\n",
    "* focal loss\n",
    "* mean squared error\n",
    "* categorical crossentropy\n",
    "\n",
    "--- ANSWER : binary crossentropy"
   ]
  },
  {
   "cell_type": "code",
   "execution_count": null,
   "id": "ed30199e",
   "metadata": {},
   "outputs": [],
   "source": []
  },
  {
   "cell_type": "code",
   "execution_count": null,
   "id": "0c74e8bc",
   "metadata": {},
   "outputs": [],
   "source": []
  },
  {
   "cell_type": "code",
   "execution_count": null,
   "id": "71312803",
   "metadata": {},
   "outputs": [],
   "source": []
  },
  {
   "cell_type": "markdown",
   "id": "3828c1c0",
   "metadata": {},
   "source": [
    "# Question 2: \n",
    "* Total number of parameters\n",
    "\n",
    "-- ANSWER : 11,215,873"
   ]
  },
  {
   "cell_type": "code",
   "execution_count": 42,
   "id": "d0080e0a",
   "metadata": {},
   "outputs": [
    {
     "name": "stdout",
     "output_type": "stream",
     "text": [
      "Model: \"model_10\"\n",
      "_________________________________________________________________\n",
      " Layer (type)                Output Shape              Param #   \n",
      "=================================================================\n",
      " input_15 (InputLayer)       [(None, 150, 150, 3)]     0         \n",
      "                                                                 \n",
      " conv2d_10 (Conv2D)          (None, 148, 148, 32)      896       \n",
      "                                                                 \n",
      " max_pooling2d_10 (MaxPoolin  (None, 74, 74, 32)       0         \n",
      " g2D)                                                            \n",
      "                                                                 \n",
      " flatten_10 (Flatten)        (None, 175232)            0         \n",
      "                                                                 \n",
      " dense_20 (Dense)            (None, 64)                11214912  \n",
      "                                                                 \n",
      " dense_21 (Dense)            (None, 1)                 65        \n",
      "                                                                 \n",
      "=================================================================\n",
      "Total params: 11,215,873\n",
      "Trainable params: 11,215,873\n",
      "Non-trainable params: 0\n",
      "_________________________________________________________________\n"
     ]
    }
   ],
   "source": [
    "model.summary()"
   ]
  },
  {
   "cell_type": "code",
   "execution_count": null,
   "id": "dd46c98e",
   "metadata": {},
   "outputs": [],
   "source": []
  },
  {
   "cell_type": "markdown",
   "id": "8a5ec0d3",
   "metadata": {},
   "source": [
    "For the next two questions, use the following data generator for both train and test sets:\n",
    "\n",
    "* ImageDataGenerator(rescale=1./255)\n",
    "\n",
    "We don't need to do any additional pre-processing for the images.\n",
    "\n",
    "* When reading the data from train/val directories, check the class_mode parameter. Which value should it be for a binary classification problem?\n",
    "* Use batch_size=20\n",
    "* Use shuffle=True for both training and test sets.\n",
    "\n",
    "For training use .fit() with the following params:\n",
    "\n",
    "```\n",
    "model.fit(\n",
    "    train_generator,\n",
    "    epochs=10,\n",
    "    validation_data=test_generator\n",
    ")\n",
    "```"
   ]
  },
  {
   "cell_type": "code",
   "execution_count": 38,
   "id": "9845d6c0",
   "metadata": {},
   "outputs": [
    {
     "name": "stdout",
     "output_type": "stream",
     "text": [
      "Found 1594 images belonging to 2 classes.\n",
      "Found 394 images belonging to 2 classes.\n",
      "Epoch 1/10\n",
      "80/80 [==============================] - 20s 243ms/step - loss: 0.6866 - accuracy: 0.5765 - val_loss: 0.6543 - val_accuracy: 0.6396\n",
      "Epoch 2/10\n",
      "80/80 [==============================] - 22s 272ms/step - loss: 0.6214 - accuracy: 0.6801 - val_loss: 0.5806 - val_accuracy: 0.7005\n",
      "Epoch 3/10\n",
      "80/80 [==============================] - 21s 263ms/step - loss: 0.5417 - accuracy: 0.7491 - val_loss: 0.4706 - val_accuracy: 0.8198\n",
      "Epoch 4/10\n",
      "80/80 [==============================] - 21s 264ms/step - loss: 0.4446 - accuracy: 0.8137 - val_loss: 0.4081 - val_accuracy: 0.8426\n",
      "Epoch 5/10\n",
      "80/80 [==============================] - 22s 274ms/step - loss: 0.3887 - accuracy: 0.8350 - val_loss: 0.3791 - val_accuracy: 0.8401\n",
      "Epoch 6/10\n",
      "80/80 [==============================] - 20s 253ms/step - loss: 0.3569 - accuracy: 0.8457 - val_loss: 0.3712 - val_accuracy: 0.8376\n",
      "Epoch 7/10\n",
      "80/80 [==============================] - 21s 260ms/step - loss: 0.3167 - accuracy: 0.8745 - val_loss: 0.3228 - val_accuracy: 0.8756\n",
      "Epoch 8/10\n",
      "80/80 [==============================] - 21s 258ms/step - loss: 0.2807 - accuracy: 0.8934 - val_loss: 0.3078 - val_accuracy: 0.8706\n",
      "Epoch 9/10\n",
      "80/80 [==============================] - 20s 244ms/step - loss: 0.2654 - accuracy: 0.8915 - val_loss: 0.3159 - val_accuracy: 0.8579\n",
      "Epoch 10/10\n",
      "80/80 [==============================] - 21s 266ms/step - loss: 0.2336 - accuracy: 0.9115 - val_loss: 0.3264 - val_accuracy: 0.8553\n"
     ]
    }
   ],
   "source": [
    "train_gen = ImageDataGenerator(rescale=1./255)\n",
    "train_ds = train_gen.flow_from_directory(train, target_size=(img_size, img_size), batch_size=20, shuffle=True, class_mode='binary')\n",
    "\n",
    "# validation data generation\n",
    "\n",
    "val_gen = ImageDataGenerator(rescale=1./255)\n",
    "val_ds = val_gen.flow_from_directory(test, target_size=(img_size, img_size), batch_size=20, shuffle=True, class_mode='binary')\n",
    "\n",
    "def make_model(learning_rate):\n",
    "    ################# Arch ##################\n",
    "    inputs = keras.Input(shape=(img_size, img_size, 3))\n",
    "    \n",
    "    conv_1 = keras.layers.Conv2D(32, (3,3), activation='relu')(inputs)\n",
    "    pool_1 = keras.layers.MaxPool2D((2,2))(conv_1)\n",
    "    flat_1 = keras.layers.Flatten()(pool_1)\n",
    "    dense_1 = keras.layers.Dense(64, activation='relu')(flat_1)\n",
    "    \n",
    "    outputs = keras.layers.Dense(1, activation='sigmoid')(dense_1)    \n",
    "    model = keras.Model(inputs, outputs)\n",
    "    #########################################\n",
    "    \n",
    "    optimizer = keras.optimizers.SGD(lr=learning_rate, momentum=0.8)\n",
    "    \n",
    "    loss = keras.losses.BinaryCrossentropy(from_logits=False)\n",
    "    \n",
    "    model.compile(optimizer=optimizer, loss=loss, metrics=['accuracy'])\n",
    "    \n",
    "    return model\n",
    "\n",
    "learning_rate = 0.002\n",
    "epochs = 10\n",
    "\n",
    "checkpoint = keras.callbacks.ModelCheckpoint(\n",
    "            './models/homework_{epoch:02d}_{val_accuracy:.3f}.h5',\n",
    "            save_best_only=True,\n",
    "            monitor='val_accuracy',\n",
    "            mode='max')\n",
    "\n",
    "model = make_model(learning_rate)\n",
    "history = model.fit(train_ds, epochs=epochs, validation_data=val_ds, callbacks=[checkpoint])"
   ]
  },
  {
   "cell_type": "code",
   "execution_count": null,
   "id": "89e764ad",
   "metadata": {},
   "outputs": [],
   "source": []
  },
  {
   "cell_type": "markdown",
   "id": "847e83a5",
   "metadata": {},
   "source": [
    "# Question 3\n",
    "What is the median of training accuracy for all the epochs for this model?\n",
    "\n",
    "-- ANSWER : 0.90 (NOT ACCURATE)"
   ]
  },
  {
   "cell_type": "code",
   "execution_count": 39,
   "id": "387ceb14",
   "metadata": {},
   "outputs": [
    {
     "data": {
      "text/plain": [
       "0.840338796377182"
      ]
     },
     "execution_count": 39,
     "metadata": {},
     "output_type": "execute_result"
    }
   ],
   "source": [
    "np.median(history.history['accuracy'])"
   ]
  },
  {
   "cell_type": "code",
   "execution_count": null,
   "id": "be576f42",
   "metadata": {},
   "outputs": [],
   "source": []
  },
  {
   "cell_type": "markdown",
   "id": "f94bc712",
   "metadata": {},
   "source": [
    "# Question 4\n",
    "What is the standard deviation of training loss for all the epochs for this model?\n",
    "\n",
    "-- ANSWER: 0.11"
   ]
  },
  {
   "cell_type": "code",
   "execution_count": 43,
   "id": "87c6184e",
   "metadata": {},
   "outputs": [
    {
     "data": {
      "text/plain": [
       "0.1134"
      ]
     },
     "execution_count": 43,
     "metadata": {},
     "output_type": "execute_result"
    }
   ],
   "source": [
    "round(np.std(history.history['val_loss']), 4)"
   ]
  },
  {
   "cell_type": "code",
   "execution_count": null,
   "id": "b044fceb",
   "metadata": {},
   "outputs": [],
   "source": []
  },
  {
   "cell_type": "markdown",
   "id": "aad96a28",
   "metadata": {},
   "source": [
    "Data Augmentation\n",
    "For the next two questions, we'll generate more data using data augmentations.\n",
    "\n",
    "Add the following augmentations to your training data generator:\n",
    "\n",
    "* rotation_range=40,\n",
    "* width_shift_range=0.2,\n",
    "* height_shift_range=0.2,\n",
    "* shear_range=0.2,\n",
    "* zoom_range=0.2,\n",
    "* horizontal_flip=True,\n",
    "* fill_mode='nearest'"
   ]
  },
  {
   "cell_type": "code",
   "execution_count": 45,
   "id": "6fed4e1a",
   "metadata": {},
   "outputs": [
    {
     "name": "stdout",
     "output_type": "stream",
     "text": [
      "Found 1594 images belonging to 2 classes.\n",
      "Found 394 images belonging to 2 classes.\n",
      "Epoch 1/10\n",
      "80/80 [==============================] - 19s 233ms/step - loss: 0.6898 - accuracy: 0.5433 - val_loss: 0.6744 - val_accuracy: 0.5102\n",
      "Epoch 2/10\n",
      "80/80 [==============================] - 18s 227ms/step - loss: 0.6505 - accuracy: 0.6280 - val_loss: 0.6021 - val_accuracy: 0.7766\n",
      "Epoch 3/10\n",
      "80/80 [==============================] - 17s 210ms/step - loss: 0.6233 - accuracy: 0.6644 - val_loss: 0.5517 - val_accuracy: 0.7792\n",
      "Epoch 4/10\n",
      "80/80 [==============================] - 17s 208ms/step - loss: 0.5786 - accuracy: 0.7089 - val_loss: 0.4942 - val_accuracy: 0.7868\n",
      "Epoch 5/10\n",
      "80/80 [==============================] - 17s 215ms/step - loss: 0.5478 - accuracy: 0.7327 - val_loss: 0.4532 - val_accuracy: 0.8071\n",
      "Epoch 6/10\n",
      "80/80 [==============================] - 17s 212ms/step - loss: 0.5254 - accuracy: 0.7403 - val_loss: 0.4911 - val_accuracy: 0.7614\n",
      "Epoch 7/10\n",
      "80/80 [==============================] - 18s 220ms/step - loss: 0.5081 - accuracy: 0.7415 - val_loss: 0.4072 - val_accuracy: 0.8350\n",
      "Epoch 8/10\n",
      "80/80 [==============================] - 17s 218ms/step - loss: 0.4970 - accuracy: 0.7616 - val_loss: 0.3759 - val_accuracy: 0.8553\n",
      "Epoch 9/10\n",
      "80/80 [==============================] - 17s 214ms/step - loss: 0.4593 - accuracy: 0.7861 - val_loss: 0.4181 - val_accuracy: 0.7970\n",
      "Epoch 10/10\n",
      "80/80 [==============================] - 17s 215ms/step - loss: 0.4817 - accuracy: 0.7660 - val_loss: 0.3562 - val_accuracy: 0.8553\n"
     ]
    }
   ],
   "source": [
    "train_gen = ImageDataGenerator(rescale=1./255, \n",
    "                               rotation_range=40, \n",
    "                               width_shift_range=0.2, \n",
    "                               height_shift_range=0.2,\n",
    "                               shear_range=0.2, \n",
    "                               zoom_range=0.2, \n",
    "                               horizontal_flip=True,\n",
    "                               fill_mode='nearest'\n",
    "                              )\n",
    "train_ds = train_gen.flow_from_directory(train, target_size=(img_size, img_size), batch_size=20, shuffle=True, class_mode='binary')\n",
    "\n",
    "# validation data generation\n",
    "\n",
    "val_gen = ImageDataGenerator(rescale=1./255)\n",
    "val_ds = val_gen.flow_from_directory(test, target_size=(img_size, img_size), batch_size=20, shuffle=True, class_mode='binary')\n",
    "\n",
    "def make_model(learning_rate):\n",
    "    ################# Arch ##################\n",
    "    inputs = keras.Input(shape=(img_size, img_size, 3))\n",
    "    \n",
    "    conv_1 = keras.layers.Conv2D(32, (3,3), activation='relu')(inputs)\n",
    "    pool_1 = keras.layers.MaxPool2D((2,2))(conv_1)\n",
    "    flat_1 = keras.layers.Flatten()(pool_1)\n",
    "    dense_1 = keras.layers.Dense(64, activation='relu')(flat_1)\n",
    "    \n",
    "    outputs = keras.layers.Dense(1, activation='sigmoid')(dense_1)    \n",
    "    model = keras.Model(inputs, outputs)\n",
    "    #########################################\n",
    "    \n",
    "    optimizer = keras.optimizers.SGD(lr=learning_rate, momentum=0.8)\n",
    "    \n",
    "    loss = keras.losses.BinaryCrossentropy(from_logits=False)\n",
    "    \n",
    "    model.compile(optimizer=optimizer, loss=loss, metrics=['accuracy'])\n",
    "    \n",
    "    return model\n",
    "\n",
    "learning_rate = 0.002\n",
    "epochs = 10\n",
    "\n",
    "checkpoint = keras.callbacks.ModelCheckpoint(\n",
    "            './models/homework_{epoch:02d}_{val_accuracy:.3f}.h5',\n",
    "            save_best_only=True,\n",
    "            monitor='val_accuracy',\n",
    "            mode='max')\n",
    "\n",
    "model = make_model(learning_rate)\n",
    "history = model.fit(train_ds, epochs=epochs, validation_data=val_ds, callbacks=[checkpoint])"
   ]
  },
  {
   "cell_type": "markdown",
   "id": "1d53bd57",
   "metadata": {},
   "source": [
    "# Question 5\n",
    "Let's train our model for 10 more epochs using the same code as previously. Make sure you don't re-create the model - we want to continue training the model we already started training.\n",
    "\n",
    "### What is the mean of test loss for all the epochs for the model trained with augmentations?\n",
    "\n",
    "* 0.15\n",
    "* 0.77\n",
    "* 0.37\n",
    "* 0.97"
   ]
  },
  {
   "cell_type": "code",
   "execution_count": 49,
   "id": "97643b59",
   "metadata": {},
   "outputs": [
    {
     "data": {
      "text/plain": [
       "0.4824093520641327"
      ]
     },
     "execution_count": 49,
     "metadata": {},
     "output_type": "execute_result"
    }
   ],
   "source": [
    "np.mean(history.history['val_loss'])"
   ]
  },
  {
   "cell_type": "code",
   "execution_count": 48,
   "id": "84e8c732",
   "metadata": {},
   "outputs": [
    {
     "data": {
      "text/plain": [
       "{'loss': [0.689800500869751,\n",
       "  0.6504889726638794,\n",
       "  0.6232843399047852,\n",
       "  0.5786334872245789,\n",
       "  0.5477772951126099,\n",
       "  0.5254401564598083,\n",
       "  0.5081228613853455,\n",
       "  0.49701789021492004,\n",
       "  0.45930713415145874,\n",
       "  0.4816834032535553],\n",
       " 'accuracy': [0.5432873368263245,\n",
       "  0.6279799342155457,\n",
       "  0.6643663644790649,\n",
       "  0.7089083790779114,\n",
       "  0.7327477931976318,\n",
       "  0.740276038646698,\n",
       "  0.74153071641922,\n",
       "  0.7616060376167297,\n",
       "  0.7860727906227112,\n",
       "  0.7659974694252014],\n",
       " 'val_loss': [0.674371063709259,\n",
       "  0.6020811200141907,\n",
       "  0.5517035722732544,\n",
       "  0.4941718280315399,\n",
       "  0.45316433906555176,\n",
       "  0.4911212921142578,\n",
       "  0.40720027685165405,\n",
       "  0.3759266138076782,\n",
       "  0.4181261360645294,\n",
       "  0.3562272787094116],\n",
       " 'val_accuracy': [0.510152280330658,\n",
       "  0.7766497731208801,\n",
       "  0.779187798500061,\n",
       "  0.7868020534515381,\n",
       "  0.807106614112854,\n",
       "  0.7614213228225708,\n",
       "  0.8350253701210022,\n",
       "  0.8553299307823181,\n",
       "  0.796954333782196,\n",
       "  0.8553299307823181]}"
      ]
     },
     "execution_count": 48,
     "metadata": {},
     "output_type": "execute_result"
    }
   ],
   "source": [
    "history.history"
   ]
  },
  {
   "cell_type": "code",
   "execution_count": null,
   "id": "177f48bc",
   "metadata": {},
   "outputs": [],
   "source": []
  }
 ],
 "metadata": {
  "kernelspec": {
   "display_name": "ml-zoomcamp",
   "language": "python",
   "name": "ml-zoomcamp"
  },
  "language_info": {
   "codemirror_mode": {
    "name": "ipython",
    "version": 3
   },
   "file_extension": ".py",
   "mimetype": "text/x-python",
   "name": "python",
   "nbconvert_exporter": "python",
   "pygments_lexer": "ipython3",
   "version": "3.8.15"
  }
 },
 "nbformat": 4,
 "nbformat_minor": 5
}
